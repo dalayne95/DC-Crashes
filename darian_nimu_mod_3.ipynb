{
  "nbformat": 4,
  "nbformat_minor": 0,
  "metadata": {
    "colab": {
      "name": "darian_nimu_mod_3",
      "provenance": [],
      "collapsed_sections": [],
      "toc_visible": true
    },
    "kernelspec": {
      "name": "python3",
      "display_name": "Python 3"
    }
  },
  "cells": [
    {
      "cell_type": "markdown",
      "metadata": {
        "id": "9JOasYBpIyDd",
        "colab_type": "text"
      },
      "source": [
        "# **Traffic Safety in Washington, D.C.**\n",
        "\n",
        "Contributors: Darian Madere and Nimu Sidhu"
      ]
    },
    {
      "cell_type": "markdown",
      "metadata": {
        "id": "yJM7pTqII5cU",
        "colab_type": "text"
      },
      "source": [
        "## **Imports and Styles**"
      ]
    },
    {
      "cell_type": "code",
      "metadata": {
        "id": "w_0RCzaKd3-s",
        "colab_type": "code",
        "outputId": "8b2a3443-a250-4c3b-cfd7-7b6808939c70",
        "colab": {
          "base_uri": "https://localhost:8080/",
          "height": 581
        }
      },
      "source": [
        "from CallAPIs import *\n",
        "from Clean_Orig_Data import *\n",
        "from Create_Aggregate_Datasets import *\n",
        "from scipy import stats\n",
        "import matplotlib.pyplot as plt\n",
        "%matplotlib inline\n",
        "\n",
        "sns.set(style=\"whitegrid\")"
      ],
      "execution_count": 0,
      "outputs": [
        {
          "output_type": "stream",
          "text": [
            "Response Status Code = 200\n",
            "Response Status Code = 200\n",
            "Response Status Code = 200\n",
            "Response Status Code = 200\n"
          ],
          "name": "stdout"
        },
        {
          "output_type": "stream",
          "text": [
            "/content/Clean_Orig_Data.py:29: SettingWithCopyWarning: \n",
            "A value is trying to be set on a copy of a slice from a DataFrame\n",
            "\n",
            "See the caveats in the documentation: http://pandas.pydata.org/pandas-docs/stable/user_guide/indexing.html#returning-a-view-versus-a-copy\n",
            "  crashes_df.TRAFFIC_CAM[index] = 0\n",
            "/content/Clean_Orig_Data.py:27: SettingWithCopyWarning: \n",
            "A value is trying to be set on a copy of a slice from a DataFrame\n",
            "\n",
            "See the caveats in the documentation: http://pandas.pydata.org/pandas-docs/stable/user_guide/indexing.html#returning-a-view-versus-a-copy\n",
            "  crashes_df.TRAFFIC_CAM[index] = 1\n",
            "/content/Create_Aggregate_Datasets.py:30: SettingWithCopyWarning: \n",
            "A value is trying to be set on a copy of a slice from a DataFrame\n",
            "\n",
            "See the caveats in the documentation: http://pandas.pydata.org/pandas-docs/stable/user_guide/indexing.html#returning-a-view-versus-a-copy\n",
            "  streets_df.TRAFFIC_CAM[index] += 1\n",
            "/content/Create_Aggregate_Datasets.py:48: SettingWithCopyWarning: \n",
            "A value is trying to be set on a copy of a slice from a DataFrame\n",
            "\n",
            "See the caveats in the documentation: http://pandas.pydata.org/pandas-docs/stable/user_guide/indexing.html#returning-a-view-versus-a-copy\n",
            "  streets_df[request_type][ind3] += 1\n",
            "/content/Create_Aggregate_Datasets.py:141: FutureWarning: Sorting because non-concatenation axis is not aligned. A future version\n",
            "of pandas will change to not sort by default.\n",
            "\n",
            "To accept the future behavior, pass 'sort=False'.\n",
            "\n",
            "To retain the current behavior and silence the warning, pass 'sort=True'.\n",
            "\n",
            "  ward_injuries = pd.concat([ward_count, injuries], axis=1)\n"
          ],
          "name": "stderr"
        }
      ]
    },
    {
      "cell_type": "markdown",
      "metadata": {
        "id": "RKrrZkZiDpe0",
        "colab_type": "text"
      },
      "source": [
        "# **Hypothesis #1**\n",
        "\n",
        "***Is the probability of getting into an accident different between the wards?***\n",
        "\n",
        "**Ho**: the probability of getting into an accident in each ward (1-8) is equal\n",
        "\n",
        "**Ha**: the probability of getting into an accident in each of the wards (1-8) is different "
      ]
    },
    {
      "cell_type": "code",
      "metadata": {
        "id": "SOQ_sa-wEHE1",
        "colab_type": "code",
        "outputId": "616927ed-51c2-410e-a597-9577f010fe7b",
        "colab": {
          "base_uri": "https://localhost:8080/",
          "height": 328
        }
      },
      "source": [
        "ward_accidents"
      ],
      "execution_count": 0,
      "outputs": [
        {
          "output_type": "execute_result",
          "data": {
            "text/html": [
              "<div>\n",
              "<style scoped>\n",
              "    .dataframe tbody tr th:only-of-type {\n",
              "        vertical-align: middle;\n",
              "    }\n",
              "\n",
              "    .dataframe tbody tr th {\n",
              "        vertical-align: top;\n",
              "    }\n",
              "\n",
              "    .dataframe thead th {\n",
              "        text-align: right;\n",
              "    }\n",
              "</style>\n",
              "<table border=\"1\" class=\"dataframe\">\n",
              "  <thead>\n",
              "    <tr style=\"text-align: right;\">\n",
              "      <th></th>\n",
              "      <th>incidents</th>\n",
              "    </tr>\n",
              "    <tr>\n",
              "      <th>WARD</th>\n",
              "      <th></th>\n",
              "    </tr>\n",
              "  </thead>\n",
              "  <tbody>\n",
              "    <tr>\n",
              "      <th>Ward 1</th>\n",
              "      <td>88</td>\n",
              "    </tr>\n",
              "    <tr>\n",
              "      <th>Ward 2</th>\n",
              "      <td>218</td>\n",
              "    </tr>\n",
              "    <tr>\n",
              "      <th>Ward 3</th>\n",
              "      <td>62</td>\n",
              "    </tr>\n",
              "    <tr>\n",
              "      <th>Ward 4</th>\n",
              "      <td>71</td>\n",
              "    </tr>\n",
              "    <tr>\n",
              "      <th>Ward 5</th>\n",
              "      <td>161</td>\n",
              "    </tr>\n",
              "    <tr>\n",
              "      <th>Ward 6</th>\n",
              "      <td>145</td>\n",
              "    </tr>\n",
              "    <tr>\n",
              "      <th>Ward 7</th>\n",
              "      <td>144</td>\n",
              "    </tr>\n",
              "    <tr>\n",
              "      <th>Ward 8</th>\n",
              "      <td>106</td>\n",
              "    </tr>\n",
              "  </tbody>\n",
              "</table>\n",
              "</div>"
            ],
            "text/plain": [
              "        incidents\n",
              "WARD             \n",
              "Ward 1         88\n",
              "Ward 2        218\n",
              "Ward 3         62\n",
              "Ward 4         71\n",
              "Ward 5        161\n",
              "Ward 6        145\n",
              "Ward 7        144\n",
              "Ward 8        106"
            ]
          },
          "metadata": {
            "tags": []
          },
          "execution_count": 2
        }
      ]
    },
    {
      "cell_type": "markdown",
      "metadata": {
        "id": "4xmRTyjZD_zW",
        "colab_type": "text"
      },
      "source": [
        "\n",
        "##### **Calculate the Chi-Square Statistic**\n",
        "\n",
        "Find Chi-square and Chi-critical value for alpha = 0.05."
      ]
    },
    {
      "cell_type": "code",
      "metadata": {
        "id": "qzGdK8ydEEY4",
        "colab_type": "code",
        "outputId": "17a3cae6-88f4-4d04-b301-46289d11b990",
        "colab": {
          "base_uri": "https://localhost:8080/",
          "height": 34
        }
      },
      "source": [
        "chi_o = stats.chisquare(f_obs = ward_accidents.incidents, ddof =1)\n",
        "\n",
        "chi_c = stats.chi2.isf(q=0.05, df=7)\n",
        "\n",
        "print(f\"Chi Observed: {chi_o[0]}, Chi Critical for Alpha = 0.05: {chi_c}\")"
      ],
      "execution_count": 0,
      "outputs": [
        {
          "output_type": "stream",
          "text": [
            "Chi Observed: 155.31959798994976, Chi Critical for Alpha = 0.05: 14.067140449340167\n"
          ],
          "name": "stdout"
        }
      ]
    },
    {
      "cell_type": "markdown",
      "metadata": {
        "id": "BBbn1r45h-0q",
        "colab_type": "text"
      },
      "source": [
        "The Chi Observed value (155.31959798994976) is greater than Chi Critical (4.067140449340167), we reject Ho.\n",
        "\n",
        "*** insert reccomendations***"
      ]
    },
    {
      "cell_type": "markdown",
      "metadata": {
        "id": "Vk5426lHrwbj",
        "colab_type": "text"
      },
      "source": [
        "# **Hypothesis Test #2**\n",
        "\n",
        "***Are citizens more likely to report safety concerns for any ward?***\n",
        "\n",
        "**Ho**: P(Safety concern report | Ward) is the same across wards.\n",
        "\n",
        "**Ha**: P(Safety concern report | Ward) is significantly different across wards.\n"
      ]
    },
    {
      "cell_type": "code",
      "metadata": {
        "colab_type": "code",
        "outputId": "996b26a9-02e5-4969-e75e-6d4b89a50013",
        "id": "nLEQZc551Zbw",
        "colab": {
          "base_uri": "https://localhost:8080/",
          "height": 297
        }
      },
      "source": [
        "safety_by_ward_df"
      ],
      "execution_count": 0,
      "outputs": [
        {
          "output_type": "execute_result",
          "data": {
            "text/html": [
              "<div>\n",
              "<style scoped>\n",
              "    .dataframe tbody tr th:only-of-type {\n",
              "        vertical-align: middle;\n",
              "    }\n",
              "\n",
              "    .dataframe tbody tr th {\n",
              "        vertical-align: top;\n",
              "    }\n",
              "\n",
              "    .dataframe thead th {\n",
              "        text-align: right;\n",
              "    }\n",
              "</style>\n",
              "<table border=\"1\" class=\"dataframe\">\n",
              "  <thead>\n",
              "    <tr style=\"text-align: right;\">\n",
              "      <th></th>\n",
              "      <th>WARD</th>\n",
              "      <th>SAFETY_CONCERNS</th>\n",
              "    </tr>\n",
              "  </thead>\n",
              "  <tbody>\n",
              "    <tr>\n",
              "      <th>1</th>\n",
              "      <td>1</td>\n",
              "      <td>25.0</td>\n",
              "    </tr>\n",
              "    <tr>\n",
              "      <th>2</th>\n",
              "      <td>2</td>\n",
              "      <td>87.0</td>\n",
              "    </tr>\n",
              "    <tr>\n",
              "      <th>3</th>\n",
              "      <td>3</td>\n",
              "      <td>9.0</td>\n",
              "    </tr>\n",
              "    <tr>\n",
              "      <th>4</th>\n",
              "      <td>4</td>\n",
              "      <td>15.0</td>\n",
              "    </tr>\n",
              "    <tr>\n",
              "      <th>5</th>\n",
              "      <td>5</td>\n",
              "      <td>31.0</td>\n",
              "    </tr>\n",
              "    <tr>\n",
              "      <th>6</th>\n",
              "      <td>6</td>\n",
              "      <td>96.0</td>\n",
              "    </tr>\n",
              "    <tr>\n",
              "      <th>7</th>\n",
              "      <td>7</td>\n",
              "      <td>6.0</td>\n",
              "    </tr>\n",
              "    <tr>\n",
              "      <th>8</th>\n",
              "      <td>8</td>\n",
              "      <td>3.0</td>\n",
              "    </tr>\n",
              "  </tbody>\n",
              "</table>\n",
              "</div>"
            ],
            "text/plain": [
              "  WARD  SAFETY_CONCERNS\n",
              "1    1             25.0\n",
              "2    2             87.0\n",
              "3    3              9.0\n",
              "4    4             15.0\n",
              "5    5             31.0\n",
              "6    6             96.0\n",
              "7    7              6.0\n",
              "8    8              3.0"
            ]
          },
          "metadata": {
            "tags": []
          },
          "execution_count": 4
        }
      ]
    },
    {
      "cell_type": "markdown",
      "metadata": {
        "id": "jaHZpH9a7m_I",
        "colab_type": "text"
      },
      "source": [
        "##### **Calculate the Chi-Square Statistic**\n",
        "\n",
        "Find Chi-square and Chi-critical value for alpha = 0.05."
      ]
    },
    {
      "cell_type": "code",
      "metadata": {
        "id": "8szIF7NxyaWo",
        "colab_type": "code",
        "outputId": "2ef5e166-eb25-4647-bbaf-5e6703dd75c0",
        "colab": {
          "base_uri": "https://localhost:8080/",
          "height": 34
        }
      },
      "source": [
        "chi_obs = stats.chisquare(f_obs = safety_by_ward_df.SAFETY_CONCERNS,\n",
        "                ddof =1)\n",
        "\n",
        "chi_crit = stats.chi2.isf(q=0.05, df=7)\n",
        "\n",
        "print(f\"Chi Observed: {chi_obs[0]}, Chi Critical for Alpha = 0.05: {chi_crit}\")\n",
        "  "
      ],
      "execution_count": 0,
      "outputs": [
        {
          "output_type": "stream",
          "text": [
            "Chi Observed: 278.6470588235294, Chi Critical for Alpha = 0.05: 14.067140449340167\n"
          ],
          "name": "stdout"
        }
      ]
    },
    {
      "cell_type": "markdown",
      "metadata": {
        "id": "9vuMlqc4P5t4",
        "colab_type": "text"
      },
      "source": [
        "Therefore, since Chi Observed >> Chi Critical, reject Ho. Evidence supports Ha."
      ]
    },
    {
      "cell_type": "markdown",
      "metadata": {
        "id": "jhpnsO7aRybj",
        "colab_type": "text"
      },
      "source": [
        "Based on this statistical clarity, we can recommend that DC invest more of its traffic safety resources in wards receiving the greatest numbers of safety concern reports."
      ]
    },
    {
      "cell_type": "code",
      "metadata": {
        "id": "_zgxMybp96ni",
        "colab_type": "code",
        "outputId": "e0313492-8e0f-49ae-9228-44cf4510bbe7",
        "colab": {
          "base_uri": "https://localhost:8080/",
          "height": 270
        }
      },
      "source": [
        "plt.bar(x = safety_by_ward_df.WARD, height= safety_by_ward_df.SAFETY_CONCERNS)\n",
        "plt.show()"
      ],
      "execution_count": 0,
      "outputs": [
        {
          "output_type": "display_data",
          "data": {
            "image/png": "[encoded data removed]",
            "text/plain": [
              "<Figure size 432x288 with 1 Axes>"
            ]
          },
          "metadata": {
            "tags": []
          }
        }
      ]
    },
    {
      "cell_type": "markdown",
      "metadata": {
        "id": "4aik2Oj5EgKH",
        "colab_type": "text"
      },
      "source": [
        "# **Hypothesis Test #3**\n",
        "\n",
        "***Is the probability of getting injured in an accident different between the wards?***\n",
        "\n",
        "**Ho**: the probability of getting injured from an accident in any given ward is the same\n",
        "\n",
        "**Ha**: the probability of getting injured in an accident is significantly higher in one or more wards "
      ]
    },
    {
      "cell_type": "code",
      "metadata": {
        "id": "RLYhxlsPEvHN",
        "colab_type": "code",
        "outputId": "ba108c46-7e4a-47d8-a3ee-360ec1e695ff",
        "colab": {
          "base_uri": "https://localhost:8080/",
          "height": 297
        }
      },
      "source": [
        "ward_injuries"
      ],
      "execution_count": 0,
      "outputs": [
        {
          "output_type": "execute_result",
          "data": {
            "text/html": [
              "<div>\n",
              "<style scoped>\n",
              "    .dataframe tbody tr th:only-of-type {\n",
              "        vertical-align: middle;\n",
              "    }\n",
              "\n",
              "    .dataframe tbody tr th {\n",
              "        vertical-align: top;\n",
              "    }\n",
              "\n",
              "    .dataframe thead th {\n",
              "        text-align: right;\n",
              "    }\n",
              "</style>\n",
              "<table border=\"1\" class=\"dataframe\">\n",
              "  <thead>\n",
              "    <tr style=\"text-align: right;\">\n",
              "      <th></th>\n",
              "      <th>total_injuries</th>\n",
              "    </tr>\n",
              "  </thead>\n",
              "  <tbody>\n",
              "    <tr>\n",
              "      <th>Ward 1</th>\n",
              "      <td>58</td>\n",
              "    </tr>\n",
              "    <tr>\n",
              "      <th>Ward 2</th>\n",
              "      <td>166</td>\n",
              "    </tr>\n",
              "    <tr>\n",
              "      <th>Ward 3</th>\n",
              "      <td>46</td>\n",
              "    </tr>\n",
              "    <tr>\n",
              "      <th>Ward 4</th>\n",
              "      <td>49</td>\n",
              "    </tr>\n",
              "    <tr>\n",
              "      <th>Ward 5</th>\n",
              "      <td>126</td>\n",
              "    </tr>\n",
              "    <tr>\n",
              "      <th>Ward 6</th>\n",
              "      <td>113</td>\n",
              "    </tr>\n",
              "    <tr>\n",
              "      <th>Ward 7</th>\n",
              "      <td>127</td>\n",
              "    </tr>\n",
              "    <tr>\n",
              "      <th>Ward 8</th>\n",
              "      <td>98</td>\n",
              "    </tr>\n",
              "  </tbody>\n",
              "</table>\n",
              "</div>"
            ],
            "text/plain": [
              "        total_injuries\n",
              "Ward 1              58\n",
              "Ward 2             166\n",
              "Ward 3              46\n",
              "Ward 4              49\n",
              "Ward 5             126\n",
              "Ward 6             113\n",
              "Ward 7             127\n",
              "Ward 8              98"
            ]
          },
          "metadata": {
            "tags": []
          },
          "execution_count": 7
        }
      ]
    },
    {
      "cell_type": "markdown",
      "metadata": {
        "id": "5an83fqmE1E_",
        "colab_type": "text"
      },
      "source": [
        "##### **Calculate the Chi-Square Statistic**\n",
        "\n",
        "Find Chi-square and Chi-critical value for alpha = 0.05."
      ]
    },
    {
      "cell_type": "code",
      "metadata": {
        "id": "wIkRrsPXEx08",
        "colab_type": "code",
        "outputId": "735fa8ab-4cea-495b-f022-fdab10d51c32",
        "colab": {
          "base_uri": "https://localhost:8080/",
          "height": 34
        }
      },
      "source": [
        "chi_o2 = stats.chisquare(f_obs = ward_injuries.total_injuries, ddof =1)\n",
        "\n",
        "chi_c2 = stats.chi2.isf(q=0.05, df=7)\n",
        "\n",
        "print(f\"Chi Observed: {chi_o2[0]}, Chi Critical for Alpha = 0.05: {chi_c2}\")"
      ],
      "execution_count": 0,
      "outputs": [
        {
          "output_type": "stream",
          "text": [
            "Chi Observed: 134.6500638569604, Chi Critical for Alpha = 0.05: 14.067140449340167\n"
          ],
          "name": "stdout"
        }
      ]
    },
    {
      "cell_type": "markdown",
      "metadata": {
        "id": "sV8-i_3Osnnp",
        "colab_type": "text"
      },
      "source": [
        "# **Hypothesis Test #4**\n",
        "\n",
        "***Are street segments containing bike routes more or less likely to have accidents involving cyclists?***\n",
        "\n",
        "**Ho**: P(Crash involving bicycle | Bike route) = P(Crash involving bicycle | No bike route)\n",
        "\n",
        "**Ha**: P(Crash involving bicycle | Bike route) < P(Crash involving bicycle | No bike route)"
      ]
    },
    {
      "cell_type": "code",
      "metadata": {
        "id": "BYShr7fLtRkF",
        "colab_type": "code",
        "outputId": "468b2d94-e6f2-4bf2-d7b0-82641c960a45",
        "colab": {
          "base_uri": "https://localhost:8080/",
          "height": 68
        }
      },
      "source": [
        "streets_df.BIKE_R.value_counts()"
      ],
      "execution_count": 0,
      "outputs": [
        {
          "output_type": "execute_result",
          "data": {
            "text/plain": [
              "0.0    1365\n",
              "1.0    1000\n",
              "Name: BIKE_R, dtype: int64"
            ]
          },
          "metadata": {
            "tags": []
          },
          "execution_count": 9
        }
      ]
    },
    {
      "cell_type": "code",
      "metadata": {
        "id": "L6QRoyyGUv8G",
        "colab_type": "code",
        "outputId": "48f2898a-c0eb-4d8a-ea05-6732cb2da128",
        "colab": {
          "base_uri": "https://localhost:8080/",
          "height": 111
        }
      },
      "source": [
        "bike_route_info_df"
      ],
      "execution_count": 0,
      "outputs": [
        {
          "output_type": "execute_result",
          "data": {
            "text/html": [
              "<div>\n",
              "<style scoped>\n",
              "    .dataframe tbody tr th:only-of-type {\n",
              "        vertical-align: middle;\n",
              "    }\n",
              "\n",
              "    .dataframe tbody tr th {\n",
              "        vertical-align: top;\n",
              "    }\n",
              "\n",
              "    .dataframe thead th {\n",
              "        text-align: right;\n",
              "    }\n",
              "</style>\n",
              "<table border=\"1\" class=\"dataframe\">\n",
              "  <thead>\n",
              "    <tr style=\"text-align: right;\">\n",
              "      <th></th>\n",
              "      <th>SAFETY_CONCERNS</th>\n",
              "      <th>TOTAL_VEHICLES</th>\n",
              "      <th>TOTAL_BICYCLES</th>\n",
              "      <th>TOTAL_PEDESTRIANS</th>\n",
              "    </tr>\n",
              "  </thead>\n",
              "  <tbody>\n",
              "    <tr>\n",
              "      <th>Non Bike Route</th>\n",
              "      <td>845.0</td>\n",
              "      <td>1662.0</td>\n",
              "      <td>7.0</td>\n",
              "      <td>49.0</td>\n",
              "    </tr>\n",
              "    <tr>\n",
              "      <th>Bike Route</th>\n",
              "      <td>155.0</td>\n",
              "      <td>139.0</td>\n",
              "      <td>1.0</td>\n",
              "      <td>5.0</td>\n",
              "    </tr>\n",
              "  </tbody>\n",
              "</table>\n",
              "</div>"
            ],
            "text/plain": [
              "                SAFETY_CONCERNS  TOTAL_VEHICLES  TOTAL_BICYCLES  \\\n",
              "Non Bike Route            845.0          1662.0             7.0   \n",
              "Bike Route                155.0           139.0             1.0   \n",
              "\n",
              "                TOTAL_PEDESTRIANS  \n",
              "Non Bike Route               49.0  \n",
              "Bike Route                    5.0  "
            ]
          },
          "metadata": {
            "tags": []
          },
          "execution_count": 10
        }
      ]
    },
    {
      "cell_type": "markdown",
      "metadata": {
        "id": "fG9E3r5KQWFR",
        "colab_type": "text"
      },
      "source": [
        "##### **Calculate the Chi-Square Statistic**\n",
        "\n",
        "Find Chi-square and Chi-critical value for alpha = 0.05."
      ]
    },
    {
      "cell_type": "code",
      "metadata": {
        "id": "Y1NnvULHY1Ov",
        "colab_type": "code",
        "outputId": "25d59222-63da-45db-bdba-ecbd30538223",
        "colab": {
          "base_uri": "https://localhost:8080/",
          "height": 68
        }
      },
      "source": [
        "prob_bike_r = streets_df.BIKE_R.value_counts()[1]/(streets_df.BIKE_R.value_counts()[1] \n",
        "                                                   + streets_df.BIKE_R.value_counts()[0])\n",
        "prob_non_bike_r = streets_df.BIKE_R.value_counts()[0]/(streets_df.BIKE_R.value_counts()[1] \n",
        "                                                       + streets_df.BIKE_R.value_counts()[0])\n",
        "\n",
        "chi_obs = stats.chisquare(f_obs = bike_route_info_df, \n",
        "                          f_exp= [[prob_non_bike_r, prob_non_bike_r, prob_non_bike_r, prob_non_bike_r], \n",
        "                                  [prob_bike_r, prob_bike_r, prob_bike_r, prob_bike_r]],\n",
        "                          ddof =1)\n",
        "\n",
        "chi_crit = stats.chi2.isf(q=0.05, df=1)\n",
        "\n",
        "print(f\"Chi Observed: {chi_obs[0]}, \\np values: {chi_obs[1]}, \\nChi Critical for Alpha = 0.05: {chi_crit}\")"
      ],
      "execution_count": 0,
      "outputs": [
        {
          "output_type": "stream",
          "text": [
            "Chi Observed: [1.29194036e+06 4.82795914e+06 7.22624359e+01 4.11209936e+03], \n",
            "p values: [nan nan nan nan], \n",
            "Chi Critical for Alpha = 0.05: 3.8414588206941285\n"
          ],
          "name": "stdout"
        }
      ]
    },
    {
      "cell_type": "markdown",
      "metadata": {
        "id": "GOJH4GWvhYur",
        "colab_type": "text"
      },
      "source": [
        "# **Hypothesis Test #5**\n",
        "\n",
        "***Are street segments containing traffic cameras more or less likely to have accidents involving speeding or speeding concern reports?***\n",
        "\n",
        "**Ho**: P(Speeding | Traffic camera) = P(Crash involving bicycle | No traffic camera)\n",
        "\n",
        "**Ha**: P(Speeding | Traffic camera) < P(Crash involving bicycle | No traffic camera)"
      ]
    },
    {
      "cell_type": "code",
      "metadata": {
        "id": "zQfV2vqpY0Rt",
        "colab_type": "code",
        "outputId": "b8087ab5-e712-4523-e22b-7c3925ca7adb",
        "colab": {
          "base_uri": "https://localhost:8080/",
          "height": 145
        }
      },
      "source": [
        "trafcam_info_df"
      ],
      "execution_count": 0,
      "outputs": [
        {
          "output_type": "execute_result",
          "data": {
            "text/html": [
              "<div>\n",
              "<style scoped>\n",
              "    .dataframe tbody tr th:only-of-type {\n",
              "        vertical-align: middle;\n",
              "    }\n",
              "\n",
              "    .dataframe tbody tr th {\n",
              "        vertical-align: top;\n",
              "    }\n",
              "\n",
              "    .dataframe thead th {\n",
              "        text-align: right;\n",
              "    }\n",
              "</style>\n",
              "<table border=\"1\" class=\"dataframe\">\n",
              "  <thead>\n",
              "    <tr style=\"text-align: right;\">\n",
              "      <th></th>\n",
              "      <th>SAFETY_CONCERNS</th>\n",
              "      <th>Speeding</th>\n",
              "      <th>SPEEDING_INVOLVED</th>\n",
              "      <th>TOTAL_VEHICLES</th>\n",
              "      <th>TOTAL_BICYCLES</th>\n",
              "      <th>TOTAL_PEDESTRIANS</th>\n",
              "    </tr>\n",
              "  </thead>\n",
              "  <tbody>\n",
              "    <tr>\n",
              "      <th>No Traffic Camera</th>\n",
              "      <td>973.0</td>\n",
              "      <td>21</td>\n",
              "      <td>13.0</td>\n",
              "      <td>1745.0</td>\n",
              "      <td>8.0</td>\n",
              "      <td>52.0</td>\n",
              "    </tr>\n",
              "    <tr>\n",
              "      <th>Traffic Camera</th>\n",
              "      <td>27.0</td>\n",
              "      <td>0</td>\n",
              "      <td>0.0</td>\n",
              "      <td>56.0</td>\n",
              "      <td>0.0</td>\n",
              "      <td>2.0</td>\n",
              "    </tr>\n",
              "  </tbody>\n",
              "</table>\n",
              "</div>"
            ],
            "text/plain": [
              "                   SAFETY_CONCERNS  Speeding  SPEEDING_INVOLVED  \\\n",
              "No Traffic Camera            973.0        21               13.0   \n",
              "Traffic Camera                27.0         0                0.0   \n",
              "\n",
              "                   TOTAL_VEHICLES  TOTAL_BICYCLES  TOTAL_PEDESTRIANS  \n",
              "No Traffic Camera          1745.0             8.0               52.0  \n",
              "Traffic Camera               56.0             0.0                2.0  "
            ]
          },
          "metadata": {
            "tags": []
          },
          "execution_count": 12
        }
      ]
    },
    {
      "cell_type": "code",
      "metadata": {
        "id": "HVilCDKTf4gb",
        "colab_type": "code",
        "outputId": "81c9f96e-7317-4ba6-bb33-41e56d984be6",
        "colab": {
          "base_uri": "https://localhost:8080/",
          "height": 85
        }
      },
      "source": [
        "prob_trafcam = streets_df.TRAFFIC_CAM.value_counts()[1]/(streets_df.TRAFFIC_CAM.value_counts()[1] \n",
        "                                                   + streets_df.TRAFFIC_CAM.value_counts()[0])\n",
        "prob_no_trafcam = streets_df.TRAFFIC_CAM.value_counts()[0]/(streets_df.TRAFFIC_CAM.value_counts()[1] \n",
        "                                                       + streets_df.TRAFFIC_CAM.value_counts()[0])\n",
        "\n",
        "chi_obs = stats.chisquare(f_obs = trafcam_info_df, \n",
        "                          f_exp= [[prob_no_trafcam, prob_no_trafcam, prob_no_trafcam, \n",
        "                                   prob_no_trafcam, prob_no_trafcam, prob_no_trafcam], \n",
        "                                  [prob_trafcam, prob_trafcam, prob_trafcam, \n",
        "                                   prob_trafcam, prob_trafcam, prob_trafcam]],\n",
        "                          ddof =1)\n",
        "\n",
        "chi_crit = stats.chi2.isf(q=0.05, df=3)\n",
        "\n",
        "print(f\"Chi Observed: {chi_obs[0]}, \\np values: {chi_obs[1]}, \\nChi Critical for Alpha = 0.05: {chi_crit}\")"
      ],
      "execution_count": 0,
      "outputs": [
        {
          "output_type": "stream",
          "text": [
            "Chi Observed: [9.98025099e+05 4.11872340e+02 1.48549718e+02 3.24302358e+06\n",
            " 5.07229700e+01 2.82237613e+03], \n",
            "p values: [nan nan nan nan nan nan], \n",
            "Chi Critical for Alpha = 0.05: 7.814727903251178\n"
          ],
          "name": "stdout"
        }
      ]
    },
    {
      "cell_type": "markdown",
      "metadata": {
        "id": "IQYu5xPC348C",
        "colab_type": "text"
      },
      "source": [
        "# **Hypothesis Test #6**\n",
        "\n",
        "***Based on information per ward, are safety concern reports, mostly reported by pedestrians, correlated with either number of vehicles or number of pedestrians involved in accidents?***\n",
        "\n",
        "**Ho**: P(Safety concern | Pedestrian involved) = P(Safety concern | Vehicles involved)\n",
        "\n",
        "**Ha**: P(Safety concern | Pedestrian involved) != P(Safety concern | Vehicles involved)"
      ]
    },
    {
      "cell_type": "code",
      "metadata": {
        "id": "wcsAVLOqdKbV",
        "colab_type": "code",
        "outputId": "1cfe2684-f165-4a96-9a4a-857c4b394dfe",
        "colab": {
          "base_uri": "https://localhost:8080/",
          "height": 333
        }
      },
      "source": [
        "sns.set_context('talk')\n",
        "sns.set_style('white')\n",
        "sns.set_style('ticks')\n",
        "safety_users = pd.DataFrame(safety_df.USERTYPE.value_counts())\n",
        "plt.figure(figsize=[5,5])\n",
        "sns.barplot(x = safety_users.index, y = safety_users.USERTYPE)\n",
        "plt.xlabel(\"\")\n",
        "plt.ylabel(\"# Reports\")\n",
        "plt.savefig('user_safety.png')\n",
        "plt.show()"
      ],
      "execution_count": 0,
      "outputs": [
        {
          "output_type": "display_data",
          "data": {
            "image/png": "[encoded data removed]",
            "text/plain": [
              "<Figure size 360x360 with 1 Axes>"
            ]
          },
          "metadata": {
            "tags": []
          }
        }
      ]
    },
    {
      "cell_type": "code",
      "metadata": {
        "id": "FvJ63r0xymF6",
        "colab_type": "code",
        "outputId": "9afaa6af-11c6-4e44-e601-7b85e5974f0c",
        "colab": {
          "base_uri": "https://localhost:8080/",
          "height": 297
        }
      },
      "source": [
        "safety_accid_by_ward_df"
      ],
      "execution_count": 0,
      "outputs": [
        {
          "output_type": "execute_result",
          "data": {
            "text/html": [
              "<div>\n",
              "<style scoped>\n",
              "    .dataframe tbody tr th:only-of-type {\n",
              "        vertical-align: middle;\n",
              "    }\n",
              "\n",
              "    .dataframe tbody tr th {\n",
              "        vertical-align: top;\n",
              "    }\n",
              "\n",
              "    .dataframe thead th {\n",
              "        text-align: right;\n",
              "    }\n",
              "</style>\n",
              "<table border=\"1\" class=\"dataframe\">\n",
              "  <thead>\n",
              "    <tr style=\"text-align: right;\">\n",
              "      <th></th>\n",
              "      <th>WARD</th>\n",
              "      <th>SAFETY_CONCERNS</th>\n",
              "      <th>TOTAL_VEHICLES</th>\n",
              "      <th>TOTAL_PEDESTRIANS</th>\n",
              "      <th>TOTAL_BICYCLES</th>\n",
              "    </tr>\n",
              "  </thead>\n",
              "  <tbody>\n",
              "    <tr>\n",
              "      <th>1</th>\n",
              "      <td>1</td>\n",
              "      <td>25.0</td>\n",
              "      <td>144.0</td>\n",
              "      <td>2.0</td>\n",
              "      <td>1.0</td>\n",
              "    </tr>\n",
              "    <tr>\n",
              "      <th>2</th>\n",
              "      <td>2</td>\n",
              "      <td>87.0</td>\n",
              "      <td>301.0</td>\n",
              "      <td>19.0</td>\n",
              "      <td>2.0</td>\n",
              "    </tr>\n",
              "    <tr>\n",
              "      <th>3</th>\n",
              "      <td>3</td>\n",
              "      <td>9.0</td>\n",
              "      <td>83.0</td>\n",
              "      <td>1.0</td>\n",
              "      <td>0.0</td>\n",
              "    </tr>\n",
              "    <tr>\n",
              "      <th>4</th>\n",
              "      <td>4</td>\n",
              "      <td>15.0</td>\n",
              "      <td>452.0</td>\n",
              "      <td>12.0</td>\n",
              "      <td>1.0</td>\n",
              "    </tr>\n",
              "    <tr>\n",
              "      <th>5</th>\n",
              "      <td>5</td>\n",
              "      <td>31.0</td>\n",
              "      <td>240.0</td>\n",
              "      <td>6.0</td>\n",
              "      <td>0.0</td>\n",
              "    </tr>\n",
              "    <tr>\n",
              "      <th>6</th>\n",
              "      <td>6</td>\n",
              "      <td>96.0</td>\n",
              "      <td>200.0</td>\n",
              "      <td>6.0</td>\n",
              "      <td>2.0</td>\n",
              "    </tr>\n",
              "    <tr>\n",
              "      <th>7</th>\n",
              "      <td>7</td>\n",
              "      <td>6.0</td>\n",
              "      <td>220.0</td>\n",
              "      <td>6.0</td>\n",
              "      <td>2.0</td>\n",
              "    </tr>\n",
              "    <tr>\n",
              "      <th>8</th>\n",
              "      <td>8</td>\n",
              "      <td>3.0</td>\n",
              "      <td>151.0</td>\n",
              "      <td>2.0</td>\n",
              "      <td>0.0</td>\n",
              "    </tr>\n",
              "  </tbody>\n",
              "</table>\n",
              "</div>"
            ],
            "text/plain": [
              "  WARD  SAFETY_CONCERNS  TOTAL_VEHICLES  TOTAL_PEDESTRIANS  TOTAL_BICYCLES\n",
              "1    1             25.0           144.0                2.0             1.0\n",
              "2    2             87.0           301.0               19.0             2.0\n",
              "3    3              9.0            83.0                1.0             0.0\n",
              "4    4             15.0           452.0               12.0             1.0\n",
              "5    5             31.0           240.0                6.0             0.0\n",
              "6    6             96.0           200.0                6.0             2.0\n",
              "7    7              6.0           220.0                6.0             2.0\n",
              "8    8              3.0           151.0                2.0             0.0"
            ]
          },
          "metadata": {
            "tags": []
          },
          "execution_count": 15
        }
      ]
    },
    {
      "cell_type": "markdown",
      "metadata": {
        "id": "8NY99y7edJBn",
        "colab_type": "text"
      },
      "source": [
        ""
      ]
    },
    {
      "cell_type": "code",
      "metadata": {
        "id": "Ttu9YKnmze2r",
        "colab_type": "code",
        "outputId": "4586e024-ef9b-4cc6-cf57-89dcc07294b5",
        "colab": {
          "base_uri": "https://localhost:8080/",
          "height": 441
        }
      },
      "source": [
        "sns.set_context('talk')\n",
        "sns.set_style('white')\n",
        "sns.set_style('ticks')\n",
        "plt.figure(figsize=[5,5])\n",
        "sns.regplot(safety_accid_by_ward_df.SAFETY_CONCERNS,safety_accid_by_ward_df.TOTAL_PEDESTRIANS, label = \"Pedestrians, r-squared: 0.20\", ci = None)\n",
        "sns.regplot(safety_accid_by_ward_df.SAFETY_CONCERNS,safety_accid_by_ward_df.TOTAL_BICYCLES, label = \"Bicycles, r-squared: 0.91\", ci = None)\n",
        "sns.regplot(safety_accid_by_ward_df.SAFETY_CONCERNS, safety_accid_by_ward_df.TOTAL_VEHICLES, label = \"Vehicles, r-squared: 0.41\", ci = None)\n",
        "plt.ylim(-50, 550)\n",
        "plt.xlabel(\"Total # Safety Concern Reports\")\n",
        "plt.ylabel(\"Parties Involved in Accidents\")\n",
        "plt.legend(loc = [0.01,1.05], frameon = True, fontsize = 'small', framealpha = 1)\n",
        "plt.savefig('accident_involvement_safety.png')\n",
        "plt.show()"
      ],
      "execution_count": 0,
      "outputs": [
        {
          "output_type": "display_data",
          "data": {
            "image/png": "[encoded data removed]",
            "text/plain": [
              "<Figure size 360x360 with 1 Axes>"
            ]
          },
          "metadata": {
            "tags": []
          }
        }
      ]
    },
    {
      "cell_type": "code",
      "metadata": {
        "id": "_LeHUiK9dfdv",
        "colab_type": "code",
        "outputId": "591f1677-08d9-4521-8f01-5c3ea28d8fee",
        "colab": {
          "base_uri": "https://localhost:8080/",
          "height": 642
        }
      },
      "source": [
        "from scipy import stats\n",
        "px = safety_accid_by_ward_df.SAFETY_CONCERNS\n",
        "py = safety_accid_by_ward_df.TOTAL_PEDESTRIANS\n",
        "slope, intercept, r_value, p_value, std_err = stats.linregress(px,py)\n",
        "print(f\"r-squared, pedestrians: {r_value**2}\")\n",
        "display(slope, intercept, r_value, p_value, std_err)\n",
        "\n",
        "# These models are displaying slightly different results\n",
        "import statsmodels.api as sm\n",
        "mod = sm.OLS(py, px)\n",
        "res = mod.fit()\n",
        "display(res.summary())\n",
        "res.conf_int(0.05) # for a 95% confidence interval of SLOPE statistic\n",
        "# Given the poor fit of data, the confidence interval is very wide!"
      ],
      "execution_count": 0,
      "outputs": [
        {
          "output_type": "stream",
          "text": [
            "r-squared, pedestrians: 0.3031700453566327\n"
          ],
          "name": "stdout"
        },
        {
          "output_type": "display_data",
          "data": {
            "text/plain": [
              "0.09077475195271269"
            ]
          },
          "metadata": {
            "tags": []
          }
        },
        {
          "output_type": "display_data",
          "data": {
            "text/plain": [
              "3.6636584336077687"
            ]
          },
          "metadata": {
            "tags": []
          }
        },
        {
          "output_type": "display_data",
          "data": {
            "text/plain": [
              "0.5506087952045742"
            ]
          },
          "metadata": {
            "tags": []
          }
        },
        {
          "output_type": "display_data",
          "data": {
            "text/plain": [
              "0.1572907766417611"
            ]
          },
          "metadata": {
            "tags": []
          }
        },
        {
          "output_type": "display_data",
          "data": {
            "text/plain": [
              "0.056183618572142734"
            ]
          },
          "metadata": {
            "tags": []
          }
        },
        {
          "output_type": "stream",
          "text": [
            "/usr/local/lib/python3.6/dist-packages/scipy/stats/stats.py:1450: UserWarning: kurtosistest only valid for n>=20 ... continuing anyway, n=8\n",
            "  \"anyway, n=%i\" % int(n))\n"
          ],
          "name": "stderr"
        },
        {
          "output_type": "display_data",
          "data": {
            "text/html": [
              "<table class=\"simpletable\">\n",
              "<caption>OLS Regression Results</caption>\n",
              "<tr>\n",
              "  <th>Dep. Variable:</th>    <td>TOTAL_PEDESTRIANS</td> <th>  R-squared (uncentered):</th>      <td>   0.624</td>\n",
              "</tr>\n",
              "<tr>\n",
              "  <th>Model:</th>                   <td>OLS</td>        <th>  Adj. R-squared (uncentered):</th> <td>   0.570</td>\n",
              "</tr>\n",
              "<tr>\n",
              "  <th>Method:</th>             <td>Least Squares</td>   <th>  F-statistic:       </th>          <td>   11.63</td>\n",
              "</tr>\n",
              "<tr>\n",
              "  <th>Date:</th>             <td>Wed, 08 Jan 2020</td>  <th>  Prob (F-statistic):</th>           <td>0.0113</td> \n",
              "</tr>\n",
              "<tr>\n",
              "  <th>Time:</th>                 <td>14:40:09</td>      <th>  Log-Likelihood:    </th>          <td> -24.851</td>\n",
              "</tr>\n",
              "<tr>\n",
              "  <th>No. Observations:</th>      <td>     8</td>       <th>  AIC:               </th>          <td>   51.70</td>\n",
              "</tr>\n",
              "<tr>\n",
              "  <th>Df Residuals:</th>          <td>     7</td>       <th>  BIC:               </th>          <td>   51.78</td>\n",
              "</tr>\n",
              "<tr>\n",
              "  <th>Df Model:</th>              <td>     1</td>       <th>                     </th>              <td> </td>   \n",
              "</tr>\n",
              "<tr>\n",
              "  <th>Covariance Type:</th>      <td>nonrobust</td>     <th>                     </th>              <td> </td>   \n",
              "</tr>\n",
              "</table>\n",
              "<table class=\"simpletable\">\n",
              "<tr>\n",
              "         <td></td>            <th>coef</th>     <th>std err</th>      <th>t</th>      <th>P>|t|</th>  <th>[0.025</th>    <th>0.975]</th>  \n",
              "</tr>\n",
              "<tr>\n",
              "  <th>SAFETY_CONCERNS</th> <td>    0.1440</td> <td>    0.042</td> <td>    3.410</td> <td> 0.011</td> <td>    0.044</td> <td>    0.244</td>\n",
              "</tr>\n",
              "</table>\n",
              "<table class=\"simpletable\">\n",
              "<tr>\n",
              "  <th>Omnibus:</th>       <td> 0.487</td> <th>  Durbin-Watson:     </th> <td>   2.357</td>\n",
              "</tr>\n",
              "<tr>\n",
              "  <th>Prob(Omnibus):</th> <td> 0.784</td> <th>  Jarque-Bera (JB):  </th> <td>   0.187</td>\n",
              "</tr>\n",
              "<tr>\n",
              "  <th>Skew:</th>          <td>-0.300</td> <th>  Prob(JB):          </th> <td>   0.911</td>\n",
              "</tr>\n",
              "<tr>\n",
              "  <th>Kurtosis:</th>      <td> 2.552</td> <th>  Cond. No.          </th> <td>    1.00</td>\n",
              "</tr>\n",
              "</table><br/><br/>Warnings:<br/>[1] Standard Errors assume that the covariance matrix of the errors is correctly specified."
            ],
            "text/plain": [
              "<class 'statsmodels.iolib.summary.Summary'>\n",
              "\"\"\"\n",
              "                                 OLS Regression Results                                \n",
              "=======================================================================================\n",
              "Dep. Variable:      TOTAL_PEDESTRIANS   R-squared (uncentered):                   0.624\n",
              "Model:                            OLS   Adj. R-squared (uncentered):              0.570\n",
              "Method:                 Least Squares   F-statistic:                              11.63\n",
              "Date:                Wed, 08 Jan 2020   Prob (F-statistic):                      0.0113\n",
              "Time:                        14:40:09   Log-Likelihood:                         -24.851\n",
              "No. Observations:                   8   AIC:                                      51.70\n",
              "Df Residuals:                       7   BIC:                                      51.78\n",
              "Df Model:                           1                                                  \n",
              "Covariance Type:            nonrobust                                                  \n",
              "===================================================================================\n",
              "                      coef    std err          t      P>|t|      [0.025      0.975]\n",
              "-----------------------------------------------------------------------------------\n",
              "SAFETY_CONCERNS     0.1440      0.042      3.410      0.011       0.044       0.244\n",
              "==============================================================================\n",
              "Omnibus:                        0.487   Durbin-Watson:                   2.357\n",
              "Prob(Omnibus):                  0.784   Jarque-Bera (JB):                0.187\n",
              "Skew:                          -0.300   Prob(JB):                        0.911\n",
              "Kurtosis:                       2.552   Cond. No.                         1.00\n",
              "==============================================================================\n",
              "\n",
              "Warnings:\n",
              "[1] Standard Errors assume that the covariance matrix of the errors is correctly specified.\n",
              "\"\"\""
            ]
          },
          "metadata": {
            "tags": []
          }
        },
        {
          "output_type": "execute_result",
          "data": {
            "text/html": [
              "<div>\n",
              "<style scoped>\n",
              "    .dataframe tbody tr th:only-of-type {\n",
              "        vertical-align: middle;\n",
              "    }\n",
              "\n",
              "    .dataframe tbody tr th {\n",
              "        vertical-align: top;\n",
              "    }\n",
              "\n",
              "    .dataframe thead th {\n",
              "        text-align: right;\n",
              "    }\n",
              "</style>\n",
              "<table border=\"1\" class=\"dataframe\">\n",
              "  <thead>\n",
              "    <tr style=\"text-align: right;\">\n",
              "      <th></th>\n",
              "      <th>0</th>\n",
              "      <th>1</th>\n",
              "    </tr>\n",
              "  </thead>\n",
              "  <tbody>\n",
              "    <tr>\n",
              "      <th>SAFETY_CONCERNS</th>\n",
              "      <td>0.044132</td>\n",
              "      <td>0.243871</td>\n",
              "    </tr>\n",
              "  </tbody>\n",
              "</table>\n",
              "</div>"
            ],
            "text/plain": [
              "                        0         1\n",
              "SAFETY_CONCERNS  0.044132  0.243871"
            ]
          },
          "metadata": {
            "tags": []
          },
          "execution_count": 17
        }
      ]
    },
    {
      "cell_type": "code",
      "metadata": {
        "id": "y1aE8gEhdmiv",
        "colab_type": "code",
        "outputId": "45e3398d-3390-4a7e-abe5-48fb53191302",
        "colab": {
          "base_uri": "https://localhost:8080/",
          "height": 557
        }
      },
      "source": [
        "bx = safety_accid_by_ward_df.SAFETY_CONCERNS\n",
        "by = safety_accid_by_ward_df.TOTAL_BICYCLES\n",
        "slope, intercept, r_value, p_value, std_err = stats.linregress(bx,by)\n",
        "print(f\"r-squared, bicycles: {r_value**2}\")\n",
        "\n",
        "mod = sm.OLS(by, bx)\n",
        "res = mod.fit()\n",
        "display(res.summary())\n",
        "res.conf_int(0.05)\n",
        "\n",
        "# This confidence interval is much smaller, reflecting the stronger linear fit."
      ],
      "execution_count": 0,
      "outputs": [
        {
          "output_type": "stream",
          "text": [
            "r-squared, bicycles: 0.3749912039969039\n"
          ],
          "name": "stdout"
        },
        {
          "output_type": "stream",
          "text": [
            "/usr/local/lib/python3.6/dist-packages/scipy/stats/stats.py:1450: UserWarning: kurtosistest only valid for n>=20 ... continuing anyway, n=8\n",
            "  \"anyway, n=%i\" % int(n))\n"
          ],
          "name": "stderr"
        },
        {
          "output_type": "display_data",
          "data": {
            "text/html": [
              "<table class=\"simpletable\">\n",
              "<caption>OLS Regression Results</caption>\n",
              "<tr>\n",
              "  <th>Dep. Variable:</th>     <td>TOTAL_BICYCLES</td>  <th>  R-squared (uncentered):</th>      <td>   0.667</td>\n",
              "</tr>\n",
              "<tr>\n",
              "  <th>Model:</th>                   <td>OLS</td>       <th>  Adj. R-squared (uncentered):</th> <td>   0.619</td>\n",
              "</tr>\n",
              "<tr>\n",
              "  <th>Method:</th>             <td>Least Squares</td>  <th>  F-statistic:       </th>          <td>   14.00</td>\n",
              "</tr>\n",
              "<tr>\n",
              "  <th>Date:</th>             <td>Wed, 08 Jan 2020</td> <th>  Prob (F-statistic):</th>           <td>0.00725</td>\n",
              "</tr>\n",
              "<tr>\n",
              "  <th>Time:</th>                 <td>14:40:13</td>     <th>  Log-Likelihood:    </th>          <td> -9.1962</td>\n",
              "</tr>\n",
              "<tr>\n",
              "  <th>No. Observations:</th>      <td>     8</td>      <th>  AIC:               </th>          <td>   20.39</td>\n",
              "</tr>\n",
              "<tr>\n",
              "  <th>Df Residuals:</th>          <td>     7</td>      <th>  BIC:               </th>          <td>   20.47</td>\n",
              "</tr>\n",
              "<tr>\n",
              "  <th>Df Model:</th>              <td>     1</td>      <th>                     </th>              <td> </td>   \n",
              "</tr>\n",
              "<tr>\n",
              "  <th>Covariance Type:</th>      <td>nonrobust</td>    <th>                     </th>              <td> </td>   \n",
              "</tr>\n",
              "</table>\n",
              "<table class=\"simpletable\">\n",
              "<tr>\n",
              "         <td></td>            <th>coef</th>     <th>std err</th>      <th>t</th>      <th>P>|t|</th>  <th>[0.025</th>    <th>0.975]</th>  \n",
              "</tr>\n",
              "<tr>\n",
              "  <th>SAFETY_CONCERNS</th> <td>    0.0223</td> <td>    0.006</td> <td>    3.741</td> <td> 0.007</td> <td>    0.008</td> <td>    0.036</td>\n",
              "</tr>\n",
              "</table>\n",
              "<table class=\"simpletable\">\n",
              "<tr>\n",
              "  <th>Omnibus:</th>       <td> 5.835</td> <th>  Durbin-Watson:     </th> <td>   2.331</td>\n",
              "</tr>\n",
              "<tr>\n",
              "  <th>Prob(Omnibus):</th> <td> 0.054</td> <th>  Jarque-Bera (JB):  </th> <td>   1.747</td>\n",
              "</tr>\n",
              "<tr>\n",
              "  <th>Skew:</th>          <td> 1.111</td> <th>  Prob(JB):          </th> <td>   0.417</td>\n",
              "</tr>\n",
              "<tr>\n",
              "  <th>Kurtosis:</th>      <td> 3.549</td> <th>  Cond. No.          </th> <td>    1.00</td>\n",
              "</tr>\n",
              "</table><br/><br/>Warnings:<br/>[1] Standard Errors assume that the covariance matrix of the errors is correctly specified."
            ],
            "text/plain": [
              "<class 'statsmodels.iolib.summary.Summary'>\n",
              "\"\"\"\n",
              "                                 OLS Regression Results                                \n",
              "=======================================================================================\n",
              "Dep. Variable:         TOTAL_BICYCLES   R-squared (uncentered):                   0.667\n",
              "Model:                            OLS   Adj. R-squared (uncentered):              0.619\n",
              "Method:                 Least Squares   F-statistic:                              14.00\n",
              "Date:                Wed, 08 Jan 2020   Prob (F-statistic):                     0.00725\n",
              "Time:                        14:40:13   Log-Likelihood:                         -9.1962\n",
              "No. Observations:                   8   AIC:                                      20.39\n",
              "Df Residuals:                       7   BIC:                                      20.47\n",
              "Df Model:                           1                                                  \n",
              "Covariance Type:            nonrobust                                                  \n",
              "===================================================================================\n",
              "                      coef    std err          t      P>|t|      [0.025      0.975]\n",
              "-----------------------------------------------------------------------------------\n",
              "SAFETY_CONCERNS     0.0223      0.006      3.741      0.007       0.008       0.036\n",
              "==============================================================================\n",
              "Omnibus:                        5.835   Durbin-Watson:                   2.331\n",
              "Prob(Omnibus):                  0.054   Jarque-Bera (JB):                1.747\n",
              "Skew:                           1.111   Prob(JB):                        0.417\n",
              "Kurtosis:                       3.549   Cond. No.                         1.00\n",
              "==============================================================================\n",
              "\n",
              "Warnings:\n",
              "[1] Standard Errors assume that the covariance matrix of the errors is correctly specified.\n",
              "\"\"\""
            ]
          },
          "metadata": {
            "tags": []
          }
        },
        {
          "output_type": "execute_result",
          "data": {
            "text/html": [
              "<div>\n",
              "<style scoped>\n",
              "    .dataframe tbody tr th:only-of-type {\n",
              "        vertical-align: middle;\n",
              "    }\n",
              "\n",
              "    .dataframe tbody tr th {\n",
              "        vertical-align: top;\n",
              "    }\n",
              "\n",
              "    .dataframe thead th {\n",
              "        text-align: right;\n",
              "    }\n",
              "</style>\n",
              "<table border=\"1\" class=\"dataframe\">\n",
              "  <thead>\n",
              "    <tr style=\"text-align: right;\">\n",
              "      <th></th>\n",
              "      <th>0</th>\n",
              "      <th>1</th>\n",
              "    </tr>\n",
              "  </thead>\n",
              "  <tbody>\n",
              "    <tr>\n",
              "      <th>SAFETY_CONCERNS</th>\n",
              "      <td>0.008215</td>\n",
              "      <td>0.036438</td>\n",
              "    </tr>\n",
              "  </tbody>\n",
              "</table>\n",
              "</div>"
            ],
            "text/plain": [
              "                        0         1\n",
              "SAFETY_CONCERNS  0.008215  0.036438"
            ]
          },
          "metadata": {
            "tags": []
          },
          "execution_count": 18
        }
      ]
    },
    {
      "cell_type": "code",
      "metadata": {
        "id": "hUB72WLadqx0",
        "colab_type": "code",
        "outputId": "34b9fe1a-9433-4c99-9aa0-8df26b73e130",
        "colab": {
          "base_uri": "https://localhost:8080/",
          "height": 557
        }
      },
      "source": [
        "vx = safety_accid_by_ward_df.SAFETY_CONCERNS\n",
        "vy = safety_accid_by_ward_df.TOTAL_VEHICLES\n",
        "slope, intercept, r_value, p_value, std_err = stats.linregress(vx,vy)\n",
        "print(f\"r-squared, vehicles: {r_value**2}\")\n",
        "\n",
        "mod = sm.OLS(vy, vx)\n",
        "res = mod.fit()\n",
        "display(res.summary())\n",
        "res.conf_int(0.05)\n",
        "\n",
        "# This is perhaps the largest confidence interval, which makes sense provided that \n",
        "# number of vehicles involved in accidents varies between very low and very high numbers, \n",
        "# unlike number of pedestrians or bicycles. While the fit is slightly better than for pedestrians,\n",
        "# the data in general is much more disperse!"
      ],
      "execution_count": 0,
      "outputs": [
        {
          "output_type": "stream",
          "text": [
            "r-squared, vehicles: 0.02728171844717022\n"
          ],
          "name": "stdout"
        },
        {
          "output_type": "stream",
          "text": [
            "/usr/local/lib/python3.6/dist-packages/scipy/stats/stats.py:1450: UserWarning: kurtosistest only valid for n>=20 ... continuing anyway, n=8\n",
            "  \"anyway, n=%i\" % int(n))\n"
          ],
          "name": "stderr"
        },
        {
          "output_type": "display_data",
          "data": {
            "text/html": [
              "<table class=\"simpletable\">\n",
              "<caption>OLS Regression Results</caption>\n",
              "<tr>\n",
              "  <th>Dep. Variable:</th>     <td>TOTAL_VEHICLES</td>  <th>  R-squared (uncentered):</th>      <td>   0.470</td>\n",
              "</tr>\n",
              "<tr>\n",
              "  <th>Model:</th>                   <td>OLS</td>       <th>  Adj. R-squared (uncentered):</th> <td>   0.394</td>\n",
              "</tr>\n",
              "<tr>\n",
              "  <th>Method:</th>             <td>Least Squares</td>  <th>  F-statistic:       </th>          <td>   6.198</td>\n",
              "</tr>\n",
              "<tr>\n",
              "  <th>Date:</th>             <td>Wed, 08 Jan 2020</td> <th>  Prob (F-statistic):</th>           <td>0.0416</td> \n",
              "</tr>\n",
              "<tr>\n",
              "  <th>Time:</th>                 <td>14:40:16</td>     <th>  Log-Likelihood:    </th>          <td> -52.916</td>\n",
              "</tr>\n",
              "<tr>\n",
              "  <th>No. Observations:</th>      <td>     8</td>      <th>  AIC:               </th>          <td>   107.8</td>\n",
              "</tr>\n",
              "<tr>\n",
              "  <th>Df Residuals:</th>          <td>     7</td>      <th>  BIC:               </th>          <td>   107.9</td>\n",
              "</tr>\n",
              "<tr>\n",
              "  <th>Df Model:</th>              <td>     1</td>      <th>                     </th>              <td> </td>   \n",
              "</tr>\n",
              "<tr>\n",
              "  <th>Covariance Type:</th>      <td>nonrobust</td>    <th>                     </th>              <td> </td>   \n",
              "</tr>\n",
              "</table>\n",
              "<table class=\"simpletable\">\n",
              "<tr>\n",
              "         <td></td>            <th>coef</th>     <th>std err</th>      <th>t</th>      <th>P>|t|</th>  <th>[0.025</th>    <th>0.975]</th>  \n",
              "</tr>\n",
              "<tr>\n",
              "  <th>SAFETY_CONCERNS</th> <td>    3.5107</td> <td>    1.410</td> <td>    2.490</td> <td> 0.042</td> <td>    0.176</td> <td>    6.845</td>\n",
              "</tr>\n",
              "</table>\n",
              "<table class=\"simpletable\">\n",
              "<tr>\n",
              "  <th>Omnibus:</th>       <td> 1.528</td> <th>  Durbin-Watson:     </th> <td>   1.489</td>\n",
              "</tr>\n",
              "<tr>\n",
              "  <th>Prob(Omnibus):</th> <td> 0.466</td> <th>  Jarque-Bera (JB):  </th> <td>   0.243</td>\n",
              "</tr>\n",
              "<tr>\n",
              "  <th>Skew:</th>          <td> 0.427</td> <th>  Prob(JB):          </th> <td>   0.885</td>\n",
              "</tr>\n",
              "<tr>\n",
              "  <th>Kurtosis:</th>      <td> 2.985</td> <th>  Cond. No.          </th> <td>    1.00</td>\n",
              "</tr>\n",
              "</table><br/><br/>Warnings:<br/>[1] Standard Errors assume that the covariance matrix of the errors is correctly specified."
            ],
            "text/plain": [
              "<class 'statsmodels.iolib.summary.Summary'>\n",
              "\"\"\"\n",
              "                                 OLS Regression Results                                \n",
              "=======================================================================================\n",
              "Dep. Variable:         TOTAL_VEHICLES   R-squared (uncentered):                   0.470\n",
              "Model:                            OLS   Adj. R-squared (uncentered):              0.394\n",
              "Method:                 Least Squares   F-statistic:                              6.198\n",
              "Date:                Wed, 08 Jan 2020   Prob (F-statistic):                      0.0416\n",
              "Time:                        14:40:16   Log-Likelihood:                         -52.916\n",
              "No. Observations:                   8   AIC:                                      107.8\n",
              "Df Residuals:                       7   BIC:                                      107.9\n",
              "Df Model:                           1                                                  \n",
              "Covariance Type:            nonrobust                                                  \n",
              "===================================================================================\n",
              "                      coef    std err          t      P>|t|      [0.025      0.975]\n",
              "-----------------------------------------------------------------------------------\n",
              "SAFETY_CONCERNS     3.5107      1.410      2.490      0.042       0.176       6.845\n",
              "==============================================================================\n",
              "Omnibus:                        1.528   Durbin-Watson:                   1.489\n",
              "Prob(Omnibus):                  0.466   Jarque-Bera (JB):                0.243\n",
              "Skew:                           0.427   Prob(JB):                        0.885\n",
              "Kurtosis:                       2.985   Cond. No.                         1.00\n",
              "==============================================================================\n",
              "\n",
              "Warnings:\n",
              "[1] Standard Errors assume that the covariance matrix of the errors is correctly specified.\n",
              "\"\"\""
            ]
          },
          "metadata": {
            "tags": []
          }
        },
        {
          "output_type": "execute_result",
          "data": {
            "text/html": [
              "<div>\n",
              "<style scoped>\n",
              "    .dataframe tbody tr th:only-of-type {\n",
              "        vertical-align: middle;\n",
              "    }\n",
              "\n",
              "    .dataframe tbody tr th {\n",
              "        vertical-align: top;\n",
              "    }\n",
              "\n",
              "    .dataframe thead th {\n",
              "        text-align: right;\n",
              "    }\n",
              "</style>\n",
              "<table border=\"1\" class=\"dataframe\">\n",
              "  <thead>\n",
              "    <tr style=\"text-align: right;\">\n",
              "      <th></th>\n",
              "      <th>0</th>\n",
              "      <th>1</th>\n",
              "    </tr>\n",
              "  </thead>\n",
              "  <tbody>\n",
              "    <tr>\n",
              "      <th>SAFETY_CONCERNS</th>\n",
              "      <td>0.176333</td>\n",
              "      <td>6.845033</td>\n",
              "    </tr>\n",
              "  </tbody>\n",
              "</table>\n",
              "</div>"
            ],
            "text/plain": [
              "                        0         1\n",
              "SAFETY_CONCERNS  0.176333  6.845033"
            ]
          },
          "metadata": {
            "tags": []
          },
          "execution_count": 19
        }
      ]
    },
    {
      "cell_type": "markdown",
      "metadata": {
        "id": "zW3WEmrdLM4I",
        "colab_type": "text"
      },
      "source": [
        "# **Combined Visualizations**\n",
        "\n"
      ]
    },
    {
      "cell_type": "markdown",
      "metadata": {
        "id": "2j8JNTc7MmVT",
        "colab_type": "text"
      },
      "source": [
        "### **Traffic Accidents, Traffic Injuries, and Safety Concern Reports**\n",
        "Frequency of traffic accidents, traffic accident injuries, and safety concern reports, differ significantly by ward."
      ]
    },
    {
      "cell_type": "code",
      "metadata": {
        "id": "lbnORWWJpsLL",
        "colab_type": "code",
        "outputId": "2abde7e2-3c0f-47be-808a-aecccf2664d8",
        "colab": {
          "base_uri": "https://localhost:8080/",
          "height": 301
        }
      },
      "source": [
        "N = 8\n",
        "ind = np.arange(N)  # the x locations for the groups\n",
        "width = 0.30       # the width of the bars\n",
        "\n",
        "fig, ax = plt.subplots()\n",
        "\n",
        "ax.bar(ind-width, ward_accidents.incidents, width, color='r', label = 'Accidents')\n",
        "ax.bar(ind, ward_injuries.total_injuries, width, color='b', label = 'Injuries')\n",
        "ax.bar(ind+width, safety_accid_by_ward_df.SAFETY_CONCERNS, width, color='g', label = 'Safety Reports')\n",
        "\n",
        "ax.set_xticks(np.arange(8))\n",
        "xlabels = ward_accidents.index\n",
        "ax.set_xticklabels(xlabels)\n",
        "\n",
        "plt.xlabel('District of Columbia Wards')\n",
        "plt.ylabel('Total Number of Events') \n",
        "plt.legend()\n",
        "\n",
        "plt.show()"
      ],
      "execution_count": 0,
      "outputs": [
        {
          "output_type": "display_data",
          "data": {
            "image/png": "[encoded data removed]",
            "text/plain": [
              "<Figure size 432x288 with 1 Axes>"
            ]
          },
          "metadata": {
            "tags": []
          }
        }
      ]
    },
    {
      "cell_type": "markdown",
      "metadata": {
        "id": "-XLLOI7TMesC",
        "colab_type": "text"
      },
      "source": [
        "#### **Accidents and Injuries**\n",
        "\n",
        "The number of accidents and injuries differ significantly across wards. Also, the ward with the highest number of accidents does not have the highest number of injuries. "
      ]
    },
    {
      "cell_type": "code",
      "metadata": {
        "id": "y4roe6p2KHHt",
        "colab_type": "code",
        "outputId": "758429cf-0ab7-4045-f468-ad16df90409d",
        "colab": {
          "base_uri": "https://localhost:8080/",
          "height": 309
        }
      },
      "source": [
        "N2 = 8\n",
        "ind2 = np.arange(N2)  # the x locations for the groups\n",
        "width2 = 0.30       # the width of the bars\n",
        "\n",
        "fig, ax = plt.subplots()\n",
        "\n",
        "ax.bar(ind2, ward_accidents.incidents, width, color=\"b\", label=\"accidents\")\n",
        "ax.bar(ind2+width2, ward_injuries.total_injuries, width, color=\"r\", label=\"injuries\")\n",
        "\n",
        "ax.set_xticks(np.arange(8))\n",
        "xlabels = ward_accidents.index\n",
        "ax.set_xticklabels(xlabels)\n",
        "\n",
        "plt.xlabel('District of Columbia Wards')\n",
        "plt.ylabel('Total Number of Incidents') \n",
        "plt.legend()\n",
        "\n",
        "plt.show()"
      ],
      "execution_count": 0,
      "outputs": [
        {
          "output_type": "display_data",
          "data": {
            "image/png": "[encoded data removed]",
            "text/plain": [
              "<Figure size 432x288 with 1 Axes>"
            ]
          },
          "metadata": {
            "tags": []
          }
        }
      ]
    },
    {
      "cell_type": "code",
      "metadata": {
        "id": "Z49GAhkBmYn3",
        "colab_type": "code",
        "colab": {}
      },
      "source": [
        ""
      ],
      "execution_count": 0,
      "outputs": []
    }
  ]
}