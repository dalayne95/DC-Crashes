{
 "cells": [
  {
   "cell_type": "markdown",
   "metadata": {
    "colab_type": "text",
    "id": "9JOasYBpIyDd"
   },
   "source": [
    "# **Traffic Safety in Washington, D.C.**\n",
    "\n",
    "Contributors: Darian Madere and Nimu Sidhu"
   ]
  },
  {
   "cell_type": "markdown",
   "metadata": {},
   "source": [
    "# Goals\n",
    "\n",
    "The goal of this analysis is to gain a better understanding of factors influencing the number of traffic accidents, injuries, and safety concern reports in Washington, D.C. Specifically, we tested whether ward, traffic cameras, and bike routes have a significant association with traffic safety. We tested six hypotheses and developed three recommendations for improvements."
   ]
  },
  {
   "cell_type": "markdown",
   "metadata": {},
   "source": [
    "### Data Sources"
   ]
  },
  {
   "cell_type": "markdown",
   "metadata": {},
   "source": [
    "We used [Open Data DC](https://opendata.dc.gov/) to source the following four datasets:\n",
    "\n",
    "\n",
    "- [Crashes in DC](https://opendata.dc.gov/datasets/crashes-in-dc/data) contains location, injury, and fatality information per traffic accident.\n",
    "- [Vision Zero Safety](https://opendata.dc.gov/datasets/vision-zero-safety/) contains traffic safety reports from DC residents, including location and type of safety concern.\n",
    "- [Traffic Cameras](https://opendata.dc.gov/datasets/traffic-camera/) contains traffic camera locations in DC.\n",
    "- [Signed Bike Routes](https://opendata.dc.gov/datasets/signed-bike-routes/data) contains bike route locations in DC. "
   ]
  },
  {
   "cell_type": "markdown",
   "metadata": {
    "colab_type": "text",
    "id": "yJM7pTqII5cU"
   },
   "source": [
    "### **Imports and Styles**"
   ]
  },
  {
   "cell_type": "markdown",
   "metadata": {},
   "source": [
    "These .py files call the APIs and run our data cleaning process."
   ]
  },
  {
   "cell_type": "code",
   "execution_count": 2,
   "metadata": {
    "colab": {
     "base_uri": "https://localhost:8080/",
     "height": 581
    },
    "colab_type": "code",
    "id": "w_0RCzaKd3-s",
    "outputId": "8b2a3443-a250-4c3b-cfd7-7b6808939c70"
   },
   "outputs": [
    {
     "name": "stdout",
     "output_type": "stream",
     "text": [
      "Response Status Code = 200\n",
      "Response Status Code = 200\n",
      "Response Status Code = 200\n",
      "Response Status Code = 200\n"
     ]
    },
    {
     "name": "stderr",
     "output_type": "stream",
     "text": [
      "/Users/flatironschooldc3/FlatironSchoolRepo/Projects/DC-Crashes/Clean_Orig_Data.py:29: SettingWithCopyWarning: \n",
      "A value is trying to be set on a copy of a slice from a DataFrame\n",
      "\n",
      "See the caveats in the documentation: http://pandas.pydata.org/pandas-docs/stable/user_guide/indexing.html#returning-a-view-versus-a-copy\n",
      "  crashes_df.TRAFFIC_CAM[index] = 0\n",
      "/Users/flatironschooldc3/FlatironSchoolRepo/Projects/DC-Crashes/Clean_Orig_Data.py:27: SettingWithCopyWarning: \n",
      "A value is trying to be set on a copy of a slice from a DataFrame\n",
      "\n",
      "See the caveats in the documentation: http://pandas.pydata.org/pandas-docs/stable/user_guide/indexing.html#returning-a-view-versus-a-copy\n",
      "  crashes_df.TRAFFIC_CAM[index] = 1\n",
      "/Users/flatironschooldc3/FlatironSchoolRepo/Projects/DC-Crashes/Create_Aggregate_Datasets.py:30: SettingWithCopyWarning: \n",
      "A value is trying to be set on a copy of a slice from a DataFrame\n",
      "\n",
      "See the caveats in the documentation: http://pandas.pydata.org/pandas-docs/stable/user_guide/indexing.html#returning-a-view-versus-a-copy\n",
      "  streets_df.TRAFFIC_CAM[index] += 1\n",
      "/Users/flatironschooldc3/FlatironSchoolRepo/Projects/DC-Crashes/Create_Aggregate_Datasets.py:48: SettingWithCopyWarning: \n",
      "A value is trying to be set on a copy of a slice from a DataFrame\n",
      "\n",
      "See the caveats in the documentation: http://pandas.pydata.org/pandas-docs/stable/user_guide/indexing.html#returning-a-view-versus-a-copy\n",
      "  streets_df[request_type][ind3] += 1\n",
      "/Users/flatironschooldc3/FlatironSchoolRepo/Projects/DC-Crashes/Create_Aggregate_Datasets.py:141: FutureWarning: Sorting because non-concatenation axis is not aligned. A future version\n",
      "of pandas will change to not sort by default.\n",
      "\n",
      "To accept the future behavior, pass 'sort=False'.\n",
      "\n",
      "To retain the current behavior and silence the warning, pass 'sort=True'.\n",
      "\n",
      "  ward_injuries = pd.concat([ward_count, injuries], axis=1)\n"
     ]
    }
   ],
   "source": [
    "from CallAPIs import *\n",
    "from Clean_Orig_Data import *\n",
    "from Create_Aggregate_Datasets import *\n",
    "from scipy import stats\n",
    "import statsmodels.api as sm\n",
    "import matplotlib.pyplot as plt\n",
    "%matplotlib inline\n",
    "\n",
    "sns.set(style=\"whitegrid\")"
   ]
  },
  {
   "cell_type": "markdown",
   "metadata": {},
   "source": [
    "## Statistical Tests"
   ]
  },
  {
   "cell_type": "markdown",
   "metadata": {},
   "source": [
    "The data sources used in this analysis report nominal data on traffic accidents and residents’ safety concerns. We aggregate this data as frequency information per street segment ID, or block, and per ward. In this aggregate data, the sample sizes are unequal, as some blocks and wards experience more traffic safety issues. Provided these two limitations, a non-parametric test or distribution-free statistic is most appropriate for our analysis. \n",
    "\n",
    "We have selected the [Chi-square test](https://www.ncbi.nlm.nih.gov/pmc/articles/PMC3900058/) as our non-parametric statistic of choice. The assumptions for this test are the following:\n",
    "\n",
    "* The data in the cells should be frequencies, or counts of cases.\n",
    "* The levels (or categories) of the variables are mutually exclusive.\n",
    "* Each subject may contribute data to only one cell.\n",
    "* The study groups must be independent.\n",
    "* The value of the cell expecteds should be 5 or more in at least 80% of the cells, and no cell should have an expected of less than one. \n",
    "\n",
    "If the observed Chi-square statistic is larger than the critical Chi-square statistic, a null hypothesis is rejected. In the case of at least a 2x2 comparison, or two independent categories against two others, Phi or Cramer's V effect size may be computed.\n",
    "\n",
    "Because the categories for which we compute the observed Chi-square statistic are 1x8, where we observe the correlation between a ward a safety concerns reported, for instance, we have no way of understanding what safety concerns exist that were not reported. As such, we do not have the appropriate information to go one level deeper and compute effect size for any of our tests."
   ]
  },
  {
   "cell_type": "markdown",
   "metadata": {
    "colab_type": "text",
    "id": "RKrrZkZiDpe0"
   },
   "source": [
    "# **Hypothesis #1**\n",
    "\n",
    "***Does traffic safety differ significantly by ward?***\n",
    "\n",
    "**Ho**: P(accident, injury, safety concern report) = P(accident, injury, safety concern report) in each ward\n",
    "\n",
    "**Ha**: P(accident, injury, safety concern report) =/= P(accident, injury, safety concern report) in each ward"
   ]
  },
  {
   "cell_type": "code",
   "execution_count": 3,
   "metadata": {
    "colab": {
     "base_uri": "https://localhost:8080/",
     "height": 328
    },
    "colab_type": "code",
    "id": "SOQ_sa-wEHE1",
    "outputId": "616927ed-51c2-410e-a597-9577f010fe7b",
    "scrolled": true
   },
   "outputs": [
    {
     "data": {
      "text/html": [
       "<div>\n",
       "<style scoped>\n",
       "    .dataframe tbody tr th:only-of-type {\n",
       "        vertical-align: middle;\n",
       "    }\n",
       "\n",
       "    .dataframe tbody tr th {\n",
       "        vertical-align: top;\n",
       "    }\n",
       "\n",
       "    .dataframe thead th {\n",
       "        text-align: right;\n",
       "    }\n",
       "</style>\n",
       "<table border=\"1\" class=\"dataframe\">\n",
       "  <thead>\n",
       "    <tr style=\"text-align: right;\">\n",
       "      <th></th>\n",
       "      <th>incidents</th>\n",
       "    </tr>\n",
       "    <tr>\n",
       "      <th>WARD</th>\n",
       "      <th></th>\n",
       "    </tr>\n",
       "  </thead>\n",
       "  <tbody>\n",
       "    <tr>\n",
       "      <th>Ward 1</th>\n",
       "      <td>88</td>\n",
       "    </tr>\n",
       "    <tr>\n",
       "      <th>Ward 2</th>\n",
       "      <td>218</td>\n",
       "    </tr>\n",
       "    <tr>\n",
       "      <th>Ward 3</th>\n",
       "      <td>62</td>\n",
       "    </tr>\n",
       "    <tr>\n",
       "      <th>Ward 4</th>\n",
       "      <td>71</td>\n",
       "    </tr>\n",
       "    <tr>\n",
       "      <th>Ward 5</th>\n",
       "      <td>161</td>\n",
       "    </tr>\n",
       "    <tr>\n",
       "      <th>Ward 6</th>\n",
       "      <td>145</td>\n",
       "    </tr>\n",
       "    <tr>\n",
       "      <th>Ward 7</th>\n",
       "      <td>144</td>\n",
       "    </tr>\n",
       "    <tr>\n",
       "      <th>Ward 8</th>\n",
       "      <td>106</td>\n",
       "    </tr>\n",
       "  </tbody>\n",
       "</table>\n",
       "</div>"
      ],
      "text/plain": [
       "        incidents\n",
       "WARD             \n",
       "Ward 1         88\n",
       "Ward 2        218\n",
       "Ward 3         62\n",
       "Ward 4         71\n",
       "Ward 5        161\n",
       "Ward 6        145\n",
       "Ward 7        144\n",
       "Ward 8        106"
      ]
     },
     "metadata": {},
     "output_type": "display_data"
    },
    {
     "data": {
      "text/html": [
       "<div>\n",
       "<style scoped>\n",
       "    .dataframe tbody tr th:only-of-type {\n",
       "        vertical-align: middle;\n",
       "    }\n",
       "\n",
       "    .dataframe tbody tr th {\n",
       "        vertical-align: top;\n",
       "    }\n",
       "\n",
       "    .dataframe thead th {\n",
       "        text-align: right;\n",
       "    }\n",
       "</style>\n",
       "<table border=\"1\" class=\"dataframe\">\n",
       "  <thead>\n",
       "    <tr style=\"text-align: right;\">\n",
       "      <th></th>\n",
       "      <th>WARD</th>\n",
       "      <th>SAFETY_CONCERNS</th>\n",
       "    </tr>\n",
       "  </thead>\n",
       "  <tbody>\n",
       "    <tr>\n",
       "      <th>1</th>\n",
       "      <td>1</td>\n",
       "      <td>25.0</td>\n",
       "    </tr>\n",
       "    <tr>\n",
       "      <th>2</th>\n",
       "      <td>2</td>\n",
       "      <td>87.0</td>\n",
       "    </tr>\n",
       "    <tr>\n",
       "      <th>3</th>\n",
       "      <td>3</td>\n",
       "      <td>9.0</td>\n",
       "    </tr>\n",
       "    <tr>\n",
       "      <th>4</th>\n",
       "      <td>4</td>\n",
       "      <td>15.0</td>\n",
       "    </tr>\n",
       "    <tr>\n",
       "      <th>5</th>\n",
       "      <td>5</td>\n",
       "      <td>31.0</td>\n",
       "    </tr>\n",
       "    <tr>\n",
       "      <th>6</th>\n",
       "      <td>6</td>\n",
       "      <td>96.0</td>\n",
       "    </tr>\n",
       "    <tr>\n",
       "      <th>7</th>\n",
       "      <td>7</td>\n",
       "      <td>6.0</td>\n",
       "    </tr>\n",
       "    <tr>\n",
       "      <th>8</th>\n",
       "      <td>8</td>\n",
       "      <td>3.0</td>\n",
       "    </tr>\n",
       "  </tbody>\n",
       "</table>\n",
       "</div>"
      ],
      "text/plain": [
       "  WARD  SAFETY_CONCERNS\n",
       "1    1             25.0\n",
       "2    2             87.0\n",
       "3    3              9.0\n",
       "4    4             15.0\n",
       "5    5             31.0\n",
       "6    6             96.0\n",
       "7    7              6.0\n",
       "8    8              3.0"
      ]
     },
     "metadata": {},
     "output_type": "display_data"
    },
    {
     "data": {
      "text/html": [
       "<div>\n",
       "<style scoped>\n",
       "    .dataframe tbody tr th:only-of-type {\n",
       "        vertical-align: middle;\n",
       "    }\n",
       "\n",
       "    .dataframe tbody tr th {\n",
       "        vertical-align: top;\n",
       "    }\n",
       "\n",
       "    .dataframe thead th {\n",
       "        text-align: right;\n",
       "    }\n",
       "</style>\n",
       "<table border=\"1\" class=\"dataframe\">\n",
       "  <thead>\n",
       "    <tr style=\"text-align: right;\">\n",
       "      <th></th>\n",
       "      <th>total_injuries</th>\n",
       "    </tr>\n",
       "  </thead>\n",
       "  <tbody>\n",
       "    <tr>\n",
       "      <th>Ward 1</th>\n",
       "      <td>58</td>\n",
       "    </tr>\n",
       "    <tr>\n",
       "      <th>Ward 2</th>\n",
       "      <td>166</td>\n",
       "    </tr>\n",
       "    <tr>\n",
       "      <th>Ward 3</th>\n",
       "      <td>46</td>\n",
       "    </tr>\n",
       "    <tr>\n",
       "      <th>Ward 4</th>\n",
       "      <td>49</td>\n",
       "    </tr>\n",
       "    <tr>\n",
       "      <th>Ward 5</th>\n",
       "      <td>126</td>\n",
       "    </tr>\n",
       "    <tr>\n",
       "      <th>Ward 6</th>\n",
       "      <td>113</td>\n",
       "    </tr>\n",
       "    <tr>\n",
       "      <th>Ward 7</th>\n",
       "      <td>127</td>\n",
       "    </tr>\n",
       "    <tr>\n",
       "      <th>Ward 8</th>\n",
       "      <td>98</td>\n",
       "    </tr>\n",
       "  </tbody>\n",
       "</table>\n",
       "</div>"
      ],
      "text/plain": [
       "        total_injuries\n",
       "Ward 1              58\n",
       "Ward 2             166\n",
       "Ward 3              46\n",
       "Ward 4              49\n",
       "Ward 5             126\n",
       "Ward 6             113\n",
       "Ward 7             127\n",
       "Ward 8              98"
      ]
     },
     "metadata": {},
     "output_type": "display_data"
    }
   ],
   "source": [
    "# Below are the three datasets that we will independently investigate: \n",
    "display(ward_accidents, safety_by_ward_df, ward_injuries)"
   ]
  },
  {
   "cell_type": "markdown",
   "metadata": {
    "colab_type": "text",
    "id": "4xmRTyjZD_zW"
   },
   "source": [
    "### **Calculate the Chi-Square Statistic**\n",
    "\n",
    "Calculate the chi-square statistic and critical chi-square value for alpha = 0.05."
   ]
  },
  {
   "cell_type": "markdown",
   "metadata": {},
   "source": [
    "#### **Accidents**"
   ]
  },
  {
   "cell_type": "code",
   "execution_count": 4,
   "metadata": {
    "colab": {
     "base_uri": "https://localhost:8080/",
     "height": 34
    },
    "colab_type": "code",
    "id": "qzGdK8ydEEY4",
    "outputId": "17a3cae6-88f4-4d04-b301-46289d11b990"
   },
   "outputs": [
    {
     "name": "stdout",
     "output_type": "stream",
     "text": [
      "Chi Observed: 155.31959798994976, \n",
      "Chi Critical for Alpha = 0.05: 14.067140449340167\n"
     ]
    }
   ],
   "source": [
    "chi_o = stats.chisquare(f_obs = ward_accidents.incidents, ddof =1)\n",
    "\n",
    "chi_c = stats.chi2.isf(q=0.05, df=7)\n",
    "\n",
    "print(f\"Chi Observed: {chi_o[0]}, \\nChi Critical for Alpha = 0.05: {chi_c}\")"
   ]
  },
  {
   "cell_type": "markdown",
   "metadata": {},
   "source": [
    "Chi Observed (155) > Chi Critical (14)\n",
    "\n",
    "Because the Chi Observed value is greater than the Chi Critical value, we can state that the probability of getting in an accident in each ward in DC is not equal. The evidence supports that the probability of getting in an accident is associated with ward. "
   ]
  },
  {
   "cell_type": "markdown",
   "metadata": {},
   "source": [
    "#### **Injuries**"
   ]
  },
  {
   "cell_type": "code",
   "execution_count": 5,
   "metadata": {},
   "outputs": [
    {
     "name": "stdout",
     "output_type": "stream",
     "text": [
      "Chi Observed: 134.6500638569604, \n",
      "Chi Critical for Alpha = 0.05: 14.067140449340167\n"
     ]
    }
   ],
   "source": [
    "chi_o2 = stats.chisquare(f_obs = ward_injuries.total_injuries, ddof =1)\n",
    "\n",
    "chi_c2 = stats.chi2.isf(q=0.05, df=7)\n",
    "\n",
    "print(f\"Chi Observed: {chi_o2[0]}, \\nChi Critical for Alpha = 0.05: {chi_c2}\")"
   ]
  },
  {
   "cell_type": "markdown",
   "metadata": {},
   "source": [
    "Chi Observed (134) > Chi Critical (14)\n",
    "\n",
    "Because the Chi Observed value is greater than the Chi Critical value, we can state that the probability of having an injury as the result of an accident in each ward in DC is not equal. The evidence supports that the probability of getting an injury as the result of an accident is associated with ward. "
   ]
  },
  {
   "cell_type": "markdown",
   "metadata": {},
   "source": [
    "#### **Safety Concern Reports**"
   ]
  },
  {
   "cell_type": "code",
   "execution_count": 6,
   "metadata": {},
   "outputs": [
    {
     "name": "stdout",
     "output_type": "stream",
     "text": [
      "Chi Observed: 278.6470588235294, \n",
      "Chi Critical for Alpha = 0.05: 14.067140449340167\n"
     ]
    }
   ],
   "source": [
    "chi_obs = stats.chisquare(f_obs = safety_by_ward_df.SAFETY_CONCERNS,\n",
    "                ddof =1)\n",
    "\n",
    "chi_crit = stats.chi2.isf(q=0.05, df=7)\n",
    "\n",
    "print(f\"Chi Observed: {chi_obs[0]}, \\nChi Critical for Alpha = 0.05: {chi_crit}\")"
   ]
  },
  {
   "cell_type": "markdown",
   "metadata": {
    "colab_type": "text",
    "id": "BBbn1r45h-0q"
   },
   "source": [
    "Chi Observed (278) > Chi Critical (14)\n",
    "\n",
    "Because the Chi Observed value is greater than the Chi Critical value, we can state that residents are not equally  likely to submit safety concern reports across wards. The evidence supports that residents of some wards are more liley to submit safety concern reports than residents in other wards."
   ]
  },
  {
   "cell_type": "markdown",
   "metadata": {},
   "source": [
    "### **Visualization of Results for Each Test**\n",
    "\n",
    "Frequency of traffic accidents, traffic accident injuries, and safety concern reports, differ significantly by ward."
   ]
  },
  {
   "cell_type": "code",
   "execution_count": 8,
   "metadata": {
    "colab": {
     "base_uri": "https://localhost:8080/",
     "height": 270
    },
    "colab_type": "code",
    "id": "_zgxMybp96ni",
    "outputId": "e0313492-8e0f-49ae-9228-44cf4510bbe7",
    "scrolled": false
   },
   "outputs": [
    {
     "data": {
      "image/png": "[encoded data removed]",
      "text/plain": [
       "<Figure size 504x252 with 1 Axes>"
      ]
     },
     "metadata": {},
     "output_type": "display_data"
    }
   ],
   "source": [
    "N = 8\n",
    "ind = np.arange(N)  # the x locations for the groups\n",
    "width = 0.30       # the width of the bars\n",
    "\n",
    "sns.set_context('talk')\n",
    "sns.set_style(\"white\")\n",
    "fig, ax = plt.subplots(figsize=(7,3.5))\n",
    "\n",
    "ax.bar(ind-width, ward_accidents.incidents, width, color='darkred', label = 'Total Accidents')\n",
    "ax.bar(ind, ward_injuries.total_injuries, width, color='indianred', label = 'Total Injuries')\n",
    "ax.bar(ind+width, safety_accid_by_ward_df.SAFETY_CONCERNS, width, color='salmon', label = 'Safety Reports')\n",
    "\n",
    "ax.set_xticks(np.arange(8))\n",
    "xlabels = ward_accidents.index\n",
    "ax.set_xticklabels(xlabels, rotation=45)\n",
    "\n",
    "plt.ylabel('Total Number of Events') \n",
    "plt.legend(fontsize = 'x-small')\n",
    "\n",
    "plt.show()"
   ]
  },
  {
   "cell_type": "markdown",
   "metadata": {},
   "source": [
    "### **Results and Recommendation**"
   ]
  },
  {
   "cell_type": "markdown",
   "metadata": {},
   "source": [
    "The highest frequency ward for each category is:\n",
    "* Accidents: Ward 2, followed by Wards 5, 6 and 7\n",
    "* Injuries: Ward 2, followed by Wards 5, 6, and 7\n",
    "* Safety Reports: Ward 6, followed by Ward 2\n",
    "\n",
    "**Recommendation**\n",
    "\n",
    "As a result of this analysis, it can be concluded that Wards 2 and 6 are facing the greatest traffic safety issues. Vision Zero resources should be directed to the these two wards in particular. This is consistent with the amount of traffic occuring in both of these wards as both are central and overlap the downtown area. "
   ]
  },
  {
   "cell_type": "markdown",
   "metadata": {
    "colab_type": "text",
    "id": "sV8-i_3Osnnp"
   },
   "source": [
    "# **Hypothesis  #2**\n",
    "\n",
    "***Are street segments, or blocks, containing bike routes or traffic cameras more or less safe than other blocks?***\n",
    "\n",
    "Here, we consider safety through several lenses:\n",
    "- Safety concern reports\n",
    "- Safety concern reports regarding speeding\n",
    "- Number of accidents involving speeding\n",
    "- Number of vehicles in accidents\n",
    "- Number of bicycles in accidents\n",
    "- Number of pedestrians in accidents\n",
    "\n",
    "Originally, we wished to look at bicycles in accidents on bike routes and speeding where there are traffic cameras. However, these categories of investigation do not contain the minimum frequency for the chi-square test. As such, we offer the additional metrics for safety in addition to those initially desired.\n",
    "\n",
    "**Ho**: P(Safety | Bike route or traffic camera) = P(Safety | No bike route or no traffic camera)\n",
    "\n",
    "**Ha**: P(Safety | Bike route or traffic camera) > P(Safety | No bike route or no traffic camera)"
   ]
  },
  {
   "cell_type": "code",
   "execution_count": 7,
   "metadata": {
    "colab": {
     "base_uri": "https://localhost:8080/",
     "height": 111
    },
    "colab_type": "code",
    "id": "L6QRoyyGUv8G",
    "outputId": "48f2898a-c0eb-4d8a-ea05-6732cb2da128"
   },
   "outputs": [
    {
     "data": {
      "text/html": [
       "<div>\n",
       "<style scoped>\n",
       "    .dataframe tbody tr th:only-of-type {\n",
       "        vertical-align: middle;\n",
       "    }\n",
       "\n",
       "    .dataframe tbody tr th {\n",
       "        vertical-align: top;\n",
       "    }\n",
       "\n",
       "    .dataframe thead th {\n",
       "        text-align: right;\n",
       "    }\n",
       "</style>\n",
       "<table border=\"1\" class=\"dataframe\">\n",
       "  <thead>\n",
       "    <tr style=\"text-align: right;\">\n",
       "      <th></th>\n",
       "      <th>SAFETY_CONCERNS</th>\n",
       "      <th>TOTAL_VEHICLES</th>\n",
       "      <th>TOTAL_BICYCLES</th>\n",
       "      <th>TOTAL_PEDESTRIANS</th>\n",
       "    </tr>\n",
       "  </thead>\n",
       "  <tbody>\n",
       "    <tr>\n",
       "      <th>Non Bike Route</th>\n",
       "      <td>845.0</td>\n",
       "      <td>1662.0</td>\n",
       "      <td>7.0</td>\n",
       "      <td>49.0</td>\n",
       "    </tr>\n",
       "    <tr>\n",
       "      <th>Bike Route</th>\n",
       "      <td>155.0</td>\n",
       "      <td>139.0</td>\n",
       "      <td>1.0</td>\n",
       "      <td>5.0</td>\n",
       "    </tr>\n",
       "  </tbody>\n",
       "</table>\n",
       "</div>"
      ],
      "text/plain": [
       "                SAFETY_CONCERNS  TOTAL_VEHICLES  TOTAL_BICYCLES  \\\n",
       "Non Bike Route            845.0          1662.0             7.0   \n",
       "Bike Route                155.0           139.0             1.0   \n",
       "\n",
       "                TOTAL_PEDESTRIANS  \n",
       "Non Bike Route               49.0  \n",
       "Bike Route                    5.0  "
      ]
     },
     "metadata": {},
     "output_type": "display_data"
    },
    {
     "data": {
      "text/html": [
       "<div>\n",
       "<style scoped>\n",
       "    .dataframe tbody tr th:only-of-type {\n",
       "        vertical-align: middle;\n",
       "    }\n",
       "\n",
       "    .dataframe tbody tr th {\n",
       "        vertical-align: top;\n",
       "    }\n",
       "\n",
       "    .dataframe thead th {\n",
       "        text-align: right;\n",
       "    }\n",
       "</style>\n",
       "<table border=\"1\" class=\"dataframe\">\n",
       "  <thead>\n",
       "    <tr style=\"text-align: right;\">\n",
       "      <th></th>\n",
       "      <th>SAFETY_CONCERNS</th>\n",
       "      <th>Speeding</th>\n",
       "      <th>SPEEDING_INVOLVED</th>\n",
       "      <th>TOTAL_VEHICLES</th>\n",
       "      <th>TOTAL_BICYCLES</th>\n",
       "      <th>TOTAL_PEDESTRIANS</th>\n",
       "    </tr>\n",
       "  </thead>\n",
       "  <tbody>\n",
       "    <tr>\n",
       "      <th>No Traffic Camera</th>\n",
       "      <td>973.0</td>\n",
       "      <td>21</td>\n",
       "      <td>13.0</td>\n",
       "      <td>1745.0</td>\n",
       "      <td>8.0</td>\n",
       "      <td>52.0</td>\n",
       "    </tr>\n",
       "    <tr>\n",
       "      <th>Traffic Camera</th>\n",
       "      <td>27.0</td>\n",
       "      <td>0</td>\n",
       "      <td>0.0</td>\n",
       "      <td>56.0</td>\n",
       "      <td>0.0</td>\n",
       "      <td>2.0</td>\n",
       "    </tr>\n",
       "  </tbody>\n",
       "</table>\n",
       "</div>"
      ],
      "text/plain": [
       "                   SAFETY_CONCERNS  Speeding  SPEEDING_INVOLVED  \\\n",
       "No Traffic Camera            973.0        21               13.0   \n",
       "Traffic Camera                27.0         0                0.0   \n",
       "\n",
       "                   TOTAL_VEHICLES  TOTAL_BICYCLES  TOTAL_PEDESTRIANS  \n",
       "No Traffic Camera          1745.0             8.0               52.0  \n",
       "Traffic Camera               56.0             0.0                2.0  "
      ]
     },
     "metadata": {},
     "output_type": "display_data"
    }
   ],
   "source": [
    "# Below we investigate the following two datasets:\n",
    "display(bike_route_info_df, trafcam_info_df)"
   ]
  },
  {
   "cell_type": "markdown",
   "metadata": {
    "colab_type": "text",
    "id": "fG9E3r5KQWFR"
   },
   "source": [
    "### **Calculate the Chi-Square Statistic**\n",
    "\n",
    "Find Chi-square and Chi-critical value for alpha = 0.05."
   ]
  },
  {
   "cell_type": "markdown",
   "metadata": {},
   "source": [
    "#### **Bike Routes**"
   ]
  },
  {
   "cell_type": "code",
   "execution_count": 13,
   "metadata": {
    "colab": {
     "base_uri": "https://localhost:8080/",
     "height": 68
    },
    "colab_type": "code",
    "id": "Y1NnvULHY1Ov",
    "outputId": "25d59222-63da-45db-bdba-ecbd30538223"
   },
   "outputs": [
    {
     "name": "stdout",
     "output_type": "stream",
     "text": [
      "Chi Observed: [1.29194036e+06 4.82795914e+06 7.22624359e+01 4.11209936e+03], \n",
      "Chi Critical for Alpha = 0.05: 3.8414588206941285\n"
     ]
    }
   ],
   "source": [
    "prob_bike_r = streets_df.BIKE_R.value_counts()[1]/(streets_df.BIKE_R.value_counts()[1] \n",
    "                                                   + streets_df.BIKE_R.value_counts()[0])\n",
    "prob_non_bike_r = streets_df.BIKE_R.value_counts()[0]/(streets_df.BIKE_R.value_counts()[1] \n",
    "                                                       + streets_df.BIKE_R.value_counts()[0])\n",
    "\n",
    "chi_obs = stats.chisquare(f_obs = bike_route_info_df, \n",
    "                          f_exp= [[prob_non_bike_r, prob_non_bike_r, prob_non_bike_r, prob_non_bike_r], \n",
    "                                  [prob_bike_r, prob_bike_r, prob_bike_r, prob_bike_r]],\n",
    "                          ddof =1)\n",
    "\n",
    "chi_crit = stats.chi2.isf(q=0.05, df=1)\n",
    "\n",
    "print(f\"Chi Observed: {chi_obs[0]}, \\nChi Critical for Alpha = 0.05: {chi_crit}\")"
   ]
  },
  {
   "cell_type": "markdown",
   "metadata": {},
   "source": [
    "Chi Observed, safety concerns (1.3 mill) > Chi Critical (4)\n",
    "\n",
    "Chi Observed, vehicles involved in accidents (4.8 mill) > Chi Critical (4)\n",
    "\n",
    "Chi Observed, bicycles involved in accidents (72) > Chi Critical (4)\n",
    "\n",
    "Chi Observed, pedestrians involved in accidents (4,000) > Chi Critical (4)\n",
    "\n",
    "\n",
    "Because the Chi Observed value for each of these safety issues is greater than the Chi Critical value, we can conclude that blocks containing bike routes are safer than blocks without bike routes. It is possible that there are other traffic safety factors that correspond to bike routes that we are not aware of that also correlate with greater safety. We reccomend that those factors be studied and instantiated as traffic saftey measures, especially in wards 2 and 6, where the greatest number of accidents occur."
   ]
  },
  {
   "cell_type": "markdown",
   "metadata": {},
   "source": [
    "#### **Traffic Cameras**"
   ]
  },
  {
   "cell_type": "code",
   "execution_count": 18,
   "metadata": {},
   "outputs": [
    {
     "name": "stdout",
     "output_type": "stream",
     "text": [
      "Chi Observed: [9.98025099e+05 4.11872340e+02 1.48549718e+02 3.24302358e+06\n",
      " 5.07229700e+01 2.82237613e+03], \n",
      "Chi Critical for Alpha = 0.05: 7.814727903251178\n"
     ]
    }
   ],
   "source": [
    "prob_trafcam = streets_df.TRAFFIC_CAM.value_counts()[1]/(streets_df.TRAFFIC_CAM.value_counts()[1] \n",
    "                                                   + streets_df.TRAFFIC_CAM.value_counts()[0])\n",
    "prob_no_trafcam = streets_df.TRAFFIC_CAM.value_counts()[0]/(streets_df.TRAFFIC_CAM.value_counts()[1] \n",
    "                                                       + streets_df.TRAFFIC_CAM.value_counts()[0])\n",
    "\n",
    "chi_obs = stats.chisquare(f_obs = trafcam_info_df, \n",
    "                          f_exp= [[prob_no_trafcam, prob_no_trafcam, prob_no_trafcam, \n",
    "                                   prob_no_trafcam, prob_no_trafcam, prob_no_trafcam], \n",
    "                                  [prob_trafcam, prob_trafcam, prob_trafcam, \n",
    "                                   prob_trafcam, prob_trafcam, prob_trafcam]],\n",
    "                          ddof =1)\n",
    "\n",
    "chi_crit = stats.chi2.isf(q=0.05, df=3)\n",
    "\n",
    "print(f\"Chi Observed: {chi_obs[0]}, \\nChi Critical for Alpha = 0.05: {chi_crit}\")"
   ]
  },
  {
   "cell_type": "markdown",
   "metadata": {},
   "source": [
    "Chi Observed, safety concerns (1 mill) > Chi Critical (4)\n",
    "\n",
    "Chi Observed, speeding safety concerns (400) > Chi Critical (4)\n",
    "\n",
    "Chi Observed, speeding involved in accidents (150) > Chi Critical (4)\n",
    "\n",
    "Chi Observed, vehicles involved in accidents (3.2 mill) > Chi Critical (4)\n",
    "\n",
    "Chi Observed, bicycles involved in accidents (5) > Chi Critical (4)\n",
    "\n",
    "Chi Observed, pedestrians involved in accidents (2,800) > Chi Critical (4)\n",
    "\n",
    "\n",
    "Because the Chi Observed value for each of these safety issues is greater than the Chi Critical value, we can conclude that blocks containing traffic cameras are safer than blocks without traffic cameras. It is possible that there are other traffic safety factors that correspond to traffic cameras that we are not aware of that also correlate with greater safety. We reccomend that those factors be studied and instantiated as traffic saftey measures, especially in wards 2 and 6, where the greatest number of accidents occur."
   ]
  },
  {
   "cell_type": "markdown",
   "metadata": {},
   "source": [
    "### **Visualizations**"
   ]
  },
  {
   "cell_type": "markdown",
   "metadata": {},
   "source": [
    "#### **Bike Routes**"
   ]
  },
  {
   "cell_type": "code",
   "execution_count": 83,
   "metadata": {},
   "outputs": [
    {
     "data": {
      "image/png": "[encoded data removed]",
      "text/plain": [
       "<Figure size 432x288 with 1 Axes>"
      ]
     },
     "metadata": {},
     "output_type": "display_data"
    }
   ],
   "source": [
    "N = 2\n",
    "ind = np.arange(N)  # the x locations for the groups\n",
    "width = 0.30       # the width of the bars\n",
    "sns.set_context('talk')\n",
    "fig, ax = plt.subplots()\n",
    "\n",
    "ax.bar(ind-width, bike_route_info_df.SAFETY_CONCERNS, width, color='r', label = 'Safety Concerns')\n",
    "ax.bar(ind, bike_route_info_df.TOTAL_VEHICLES, width, color='b', label = 'Vehicle Involved Accidents')\n",
    "ax.bar(ind+width, bike_route_info_df.TOTAL_BICYCLES, width, color='y', label = 'Bicycle Involved Accidents')\n",
    "ax.bar(ind+width, bike_route_info_df.TOTAL_PEDESTRIANS, width, color='g', label = 'Pedestrian Involved Accidents')\n",
    "\n",
    "ax.set_xticks(np.arange(2))\n",
    "xlabels = bike_route_info_df.index\n",
    "ax.set_xticklabels(xlabels)\n",
    "\n",
    "plt.ylabel('Total Number of Events') \n",
    "plt.legend(fontsize = 'x-small')\n",
    "\n",
    "plt.show()"
   ]
  },
  {
   "cell_type": "markdown",
   "metadata": {},
   "source": [
    "#### **Traffic Cameras**"
   ]
  },
  {
   "cell_type": "code",
   "execution_count": 82,
   "metadata": {
    "scrolled": true
   },
   "outputs": [
    {
     "data": {
      "image/png": "[encoded data removed]",
      "text/plain": [
       "<Figure size 432x288 with 1 Axes>"
      ]
     },
     "metadata": {},
     "output_type": "display_data"
    }
   ],
   "source": [
    "N = 2\n",
    "ind = np.arange(N)  # the x locations for the groups\n",
    "width = 0.30       # the width of the bars\n",
    "sns.set_context('talk')\n",
    "fig, ax = plt.subplots()\n",
    "\n",
    "# ax.bar(ind-width, trafcam_info_df.SAFETY_CONCERNS, width, color='r', label = 'Safety Concerns')\n",
    "ax.bar(ind, trafcam_info_df.Speeding, width, color='b', label = 'Speeding Report')\n",
    "ax.bar(ind+width, trafcam_info_df.SPEEDING_INVOLVED, width, color='y', label = 'Speeding Involved Accident')\n",
    "\n",
    "ax.set_xticks(np.arange(2))\n",
    "xlabels = trafcam_info_df.index\n",
    "ax.set_xticklabels(xlabels)\n",
    "\n",
    "plt.ylabel('Total Number of Events') \n",
    "plt.legend(fontsize = 'small')\n",
    "\n",
    "plt.show()"
   ]
  },
  {
   "cell_type": "markdown",
   "metadata": {},
   "source": [
    "### **Results and Recommendation**"
   ]
  },
  {
   "cell_type": "markdown",
   "metadata": {},
   "source": [
    "We observed that:\n",
    "- Routes with no traffic cameras had a higher frequency of safety concern reports compared to routes with traffic cameras.\n",
    "- Routes with no traffic cameras had a several reports of speeding and speeding involved accidents compared to routes with traffic cameras, which had zero reports of speeding and speeding involved accidents.\n",
    "- Routes without bike lanes had a higher frequency of safety concern reports compared to routes with signed bike lanes.\n",
    "- Routes without signed bike lakes had a higher frequency of vehicle, pedestrian, and cyclist involved accidents compared to routes with signed bike lanes.\n",
    "\n",
    "#### **Recommendations**\n",
    "\n",
    "Routes with traffic cameras and with signed bike lanes are significantly safer than routes without either of these. Accidents occur much more frequently in the absence of these safety features. It is possible that there are other traffic safety factors that correspond to bike routes and traffic cameras that we are not aware of that also correlate with greater safety. We reccomend that those factors be studied and instantiated as traffic saftey measures, especially in wards 2 and 6, where the greatest number of accidents occur. "
   ]
  },
  {
   "cell_type": "markdown",
   "metadata": {
    "colab_type": "text",
    "id": "IQYu5xPC348C"
   },
   "source": [
    "# **Hypothesis #3**\n",
    "\n",
    "***Based on information per ward, are safety concern reports correlated with number of vehicles, pedestrians, or bicycles involved in accidents?***\n",
    "\n",
    "**Ho**: P(Safety concern) is independent of P(Accident involvement)\n",
    "\n",
    "**Ha**: P(Safety concern) correlates with P(Accident involvement)"
   ]
  },
  {
   "cell_type": "markdown",
   "metadata": {},
   "source": [
    "Safety concern reports are primarily submitted by pedestrians, followed by cyclists and car drivers."
   ]
  },
  {
   "cell_type": "code",
   "execution_count": 0,
   "metadata": {
    "colab": {
     "base_uri": "https://localhost:8080/",
     "height": 333
    },
    "colab_type": "code",
    "id": "wcsAVLOqdKbV",
    "outputId": "1cfe2684-f165-4a96-9a4a-857c4b394dfe"
   },
   "outputs": [
    {
     "data": {
      "image/png": "[encoded data removed]",
      "text/plain": [
       "<Figure size 360x360 with 1 Axes>"
      ]
     },
     "metadata": {
      "tags": []
     },
     "output_type": "display_data"
    }
   ],
   "source": [
    "sns.set_context('talk')\n",
    "sns.set_style('white')\n",
    "sns.set_style('ticks')\n",
    "safety_users = pd.DataFrame(safety_df.USERTYPE.value_counts())\n",
    "plt.figure(figsize=[5,5])\n",
    "sns.barplot(x = safety_users.index, y = safety_users.USERTYPE)\n",
    "plt.xlabel(\"\")\n",
    "plt.ylabel(\"# Reports\")\n",
    "plt.savefig('user_safety.png')\n",
    "plt.show()"
   ]
  },
  {
   "cell_type": "code",
   "execution_count": 8,
   "metadata": {
    "colab": {
     "base_uri": "https://localhost:8080/",
     "height": 297
    },
    "colab_type": "code",
    "id": "FvJ63r0xymF6",
    "outputId": "9afaa6af-11c6-4e44-e601-7b85e5974f0c"
   },
   "outputs": [
    {
     "data": {
      "text/html": [
       "<div>\n",
       "<style scoped>\n",
       "    .dataframe tbody tr th:only-of-type {\n",
       "        vertical-align: middle;\n",
       "    }\n",
       "\n",
       "    .dataframe tbody tr th {\n",
       "        vertical-align: top;\n",
       "    }\n",
       "\n",
       "    .dataframe thead th {\n",
       "        text-align: right;\n",
       "    }\n",
       "</style>\n",
       "<table border=\"1\" class=\"dataframe\">\n",
       "  <thead>\n",
       "    <tr style=\"text-align: right;\">\n",
       "      <th></th>\n",
       "      <th>WARD</th>\n",
       "      <th>SAFETY_CONCERNS</th>\n",
       "      <th>TOTAL_VEHICLES</th>\n",
       "      <th>TOTAL_PEDESTRIANS</th>\n",
       "      <th>TOTAL_BICYCLES</th>\n",
       "    </tr>\n",
       "  </thead>\n",
       "  <tbody>\n",
       "    <tr>\n",
       "      <th>1</th>\n",
       "      <td>1</td>\n",
       "      <td>25.0</td>\n",
       "      <td>144.0</td>\n",
       "      <td>2.0</td>\n",
       "      <td>1.0</td>\n",
       "    </tr>\n",
       "    <tr>\n",
       "      <th>2</th>\n",
       "      <td>2</td>\n",
       "      <td>87.0</td>\n",
       "      <td>301.0</td>\n",
       "      <td>19.0</td>\n",
       "      <td>2.0</td>\n",
       "    </tr>\n",
       "    <tr>\n",
       "      <th>3</th>\n",
       "      <td>3</td>\n",
       "      <td>9.0</td>\n",
       "      <td>83.0</td>\n",
       "      <td>1.0</td>\n",
       "      <td>0.0</td>\n",
       "    </tr>\n",
       "    <tr>\n",
       "      <th>4</th>\n",
       "      <td>4</td>\n",
       "      <td>15.0</td>\n",
       "      <td>452.0</td>\n",
       "      <td>12.0</td>\n",
       "      <td>1.0</td>\n",
       "    </tr>\n",
       "    <tr>\n",
       "      <th>5</th>\n",
       "      <td>5</td>\n",
       "      <td>31.0</td>\n",
       "      <td>240.0</td>\n",
       "      <td>6.0</td>\n",
       "      <td>0.0</td>\n",
       "    </tr>\n",
       "    <tr>\n",
       "      <th>6</th>\n",
       "      <td>6</td>\n",
       "      <td>96.0</td>\n",
       "      <td>200.0</td>\n",
       "      <td>6.0</td>\n",
       "      <td>2.0</td>\n",
       "    </tr>\n",
       "    <tr>\n",
       "      <th>7</th>\n",
       "      <td>7</td>\n",
       "      <td>6.0</td>\n",
       "      <td>220.0</td>\n",
       "      <td>6.0</td>\n",
       "      <td>2.0</td>\n",
       "    </tr>\n",
       "    <tr>\n",
       "      <th>8</th>\n",
       "      <td>8</td>\n",
       "      <td>3.0</td>\n",
       "      <td>151.0</td>\n",
       "      <td>2.0</td>\n",
       "      <td>0.0</td>\n",
       "    </tr>\n",
       "  </tbody>\n",
       "</table>\n",
       "</div>"
      ],
      "text/plain": [
       "  WARD  SAFETY_CONCERNS  TOTAL_VEHICLES  TOTAL_PEDESTRIANS  TOTAL_BICYCLES\n",
       "1    1             25.0           144.0                2.0             1.0\n",
       "2    2             87.0           301.0               19.0             2.0\n",
       "3    3              9.0            83.0                1.0             0.0\n",
       "4    4             15.0           452.0               12.0             1.0\n",
       "5    5             31.0           240.0                6.0             0.0\n",
       "6    6             96.0           200.0                6.0             2.0\n",
       "7    7              6.0           220.0                6.0             2.0\n",
       "8    8              3.0           151.0                2.0             0.0"
      ]
     },
     "execution_count": 8,
     "metadata": {},
     "output_type": "execute_result"
    }
   ],
   "source": [
    "# Segment each ward into a sample population:\n",
    "safety_accid_by_ward_df"
   ]
  },
  {
   "cell_type": "code",
   "execution_count": 15,
   "metadata": {
    "colab": {
     "base_uri": "https://localhost:8080/",
     "height": 441
    },
    "colab_type": "code",
    "id": "Ttu9YKnmze2r",
    "outputId": "4586e024-ef9b-4cc6-cf57-89dcc07294b5",
    "scrolled": true
   },
   "outputs": [
    {
     "data": {
      "image/png": "[encoded data removed]",
      "text/plain": [
       "<Figure size 360x360 with 1 Axes>"
      ]
     },
     "metadata": {},
     "output_type": "display_data"
    }
   ],
   "source": [
    "sns.set_context('talk')\n",
    "sns.set_style('white')\n",
    "sns.set_style('ticks')\n",
    "plt.figure(figsize=[5,5])\n",
    "sns.regplot(safety_accid_by_ward_df.SAFETY_CONCERNS,safety_accid_by_ward_df.TOTAL_PEDESTRIANS, label = \"Pedestrians, r-squared: 0.62\", ci = None)\n",
    "sns.regplot(safety_accid_by_ward_df.SAFETY_CONCERNS,safety_accid_by_ward_df.TOTAL_BICYCLES, label = \"Bicycles, r-squared: 0.67\", ci = None)\n",
    "sns.regplot(safety_accid_by_ward_df.SAFETY_CONCERNS, safety_accid_by_ward_df.TOTAL_VEHICLES, label = \"Vehicles, r-squared: 0.47\", ci = None)\n",
    "plt.ylim(-50, 550)\n",
    "plt.xlabel(\"Total # Safety Concern Reports\")\n",
    "plt.ylabel(\"Parties Involved in Accidents\")\n",
    "plt.legend(loc = 'best', frameon = True, fontsize = 'small', framealpha = 1)\n",
    "plt.savefig('accident_involvement_safety.png')\n",
    "plt.show()"
   ]
  },
  {
   "cell_type": "markdown",
   "metadata": {},
   "source": [
    "#### Pedestrian Accident Involvement"
   ]
  },
  {
   "cell_type": "code",
   "execution_count": 9,
   "metadata": {
    "colab": {
     "base_uri": "https://localhost:8080/",
     "height": 642
    },
    "colab_type": "code",
    "id": "_LeHUiK9dfdv",
    "outputId": "591f1677-08d9-4521-8f01-5c3ea28d8fee",
    "scrolled": true
   },
   "outputs": [
    {
     "name": "stdout",
     "output_type": "stream",
     "text": [
      "                                 OLS Regression Results                                \n",
      "=======================================================================================\n",
      "Dep. Variable:      TOTAL_PEDESTRIANS   R-squared (uncentered):                   0.624\n",
      "Model:                            OLS   Adj. R-squared (uncentered):              0.570\n",
      "Method:                 Least Squares   F-statistic:                              11.63\n",
      "Date:                Wed, 08 Jan 2020   Prob (F-statistic):                      0.0113\n",
      "Time:                        18:51:23   Log-Likelihood:                         -24.851\n",
      "No. Observations:                   8   AIC:                                      51.70\n",
      "Df Residuals:                       7   BIC:                                      51.78\n",
      "Df Model:                           1                                                  \n",
      "Covariance Type:            nonrobust                                                  \n",
      "===================================================================================\n",
      "                      coef    std err          t      P>|t|      [0.025      0.975]\n",
      "-----------------------------------------------------------------------------------\n",
      "SAFETY_CONCERNS     0.1440      0.042      3.410      0.011       0.044       0.244\n",
      "==============================================================================\n",
      "Omnibus:                        0.487   Durbin-Watson:                   2.357\n",
      "Prob(Omnibus):                  0.784   Jarque-Bera (JB):                0.187\n",
      "Skew:                          -0.300   Prob(JB):                        0.911\n",
      "Kurtosis:                       2.552   Cond. No.                         1.00\n",
      "==============================================================================\n",
      "\n",
      "Warnings:\n",
      "[1] Standard Errors assume that the covariance matrix of the errors is correctly specified.\n",
      "Slope Confidence Interval: (0.04413225414309352, 0.24387116429510758)\n"
     ]
    },
    {
     "name": "stderr",
     "output_type": "stream",
     "text": [
      "/opt/anaconda3/envs/learn-env/lib/python3.6/site-packages/numpy/core/fromnumeric.py:2389: FutureWarning: Method .ptp is deprecated and will be removed in a future version. Use numpy.ptp instead.\n",
      "  return ptp(axis=axis, out=out, **kwargs)\n",
      "/opt/anaconda3/envs/learn-env/lib/python3.6/site-packages/scipy/stats/stats.py:1450: UserWarning: kurtosistest only valid for n>=20 ... continuing anyway, n=8\n",
      "  \"anyway, n=%i\" % int(n))\n"
     ]
    }
   ],
   "source": [
    "px = safety_accid_by_ward_df.SAFETY_CONCERNS\n",
    "py = safety_accid_by_ward_df.TOTAL_PEDESTRIANS\n",
    "slope, intercept, r_value, p_value, std_err = stats.linregress(px,py)\n",
    "# print(f\"r-squared, pedestrians: {r_value**2}\")\n",
    "\n",
    "# These models are displaying slightly different results; use r-squared value from OLS test.\n",
    "mod = sm.OLS(py, px)\n",
    "px = sm.add_constant(px)\n",
    "res = mod.fit()\n",
    "print(res.summary())\n",
    "print(f'Slope Confidence Interval: {res.conf_int(0.05)[0][0], res.conf_int(0.05)[1][0]}') # for a 95% confidence interval of SLOPE statistic"
   ]
  },
  {
   "cell_type": "markdown",
   "metadata": {},
   "source": [
    "#### **Pedestrian Results**\n",
    "\n",
    "There is very little correlation between the number of safety concern reports and the the number of pedestrians involved in accidents. We can conclude that pedestrian involvement in accidents does not increase the liklihood of residents submitting safety concern reports. \n",
    "\n",
    "Additionally, given the poor fit of data, the confidence interval found for the linear regression is very wide."
   ]
  },
  {
   "cell_type": "markdown",
   "metadata": {},
   "source": [
    "#### Cyclist Accident Involvement"
   ]
  },
  {
   "cell_type": "code",
   "execution_count": 12,
   "metadata": {
    "colab": {
     "base_uri": "https://localhost:8080/",
     "height": 557
    },
    "colab_type": "code",
    "id": "y1aE8gEhdmiv",
    "outputId": "45e3398d-3390-4a7e-abe5-48fb53191302"
   },
   "outputs": [
    {
     "name": "stdout",
     "output_type": "stream",
     "text": [
      "                                 OLS Regression Results                                \n",
      "=======================================================================================\n",
      "Dep. Variable:         TOTAL_BICYCLES   R-squared (uncentered):                   0.667\n",
      "Model:                            OLS   Adj. R-squared (uncentered):              0.619\n",
      "Method:                 Least Squares   F-statistic:                              14.00\n",
      "Date:                Wed, 08 Jan 2020   Prob (F-statistic):                     0.00725\n",
      "Time:                        18:52:37   Log-Likelihood:                         -9.1962\n",
      "No. Observations:                   8   AIC:                                      20.39\n",
      "Df Residuals:                       7   BIC:                                      20.47\n",
      "Df Model:                           1                                                  \n",
      "Covariance Type:            nonrobust                                                  \n",
      "===================================================================================\n",
      "                      coef    std err          t      P>|t|      [0.025      0.975]\n",
      "-----------------------------------------------------------------------------------\n",
      "SAFETY_CONCERNS     0.0223      0.006      3.741      0.007       0.008       0.036\n",
      "==============================================================================\n",
      "Omnibus:                        5.835   Durbin-Watson:                   2.331\n",
      "Prob(Omnibus):                  0.054   Jarque-Bera (JB):                1.747\n",
      "Skew:                           1.111   Prob(JB):                        0.417\n",
      "Kurtosis:                       3.549   Cond. No.                         1.00\n",
      "==============================================================================\n",
      "\n",
      "Warnings:\n",
      "[1] Standard Errors assume that the covariance matrix of the errors is correctly specified.\n",
      "Slope Confidence Interval: (0.008215055621387345, 0.03643829337978777)\n"
     ]
    }
   ],
   "source": [
    "bx = safety_accid_by_ward_df.SAFETY_CONCERNS\n",
    "by = safety_accid_by_ward_df.TOTAL_BICYCLES\n",
    "slope, intercept, r_value, p_value, std_err = stats.linregress(bx,by)\n",
    "# print(f\"r-squared, bicycles: {r_value**2}\")\n",
    "\n",
    "mod = sm.OLS(by, bx)\n",
    "bx = sm.add_constant(bx)\n",
    "res = mod.fit()\n",
    "print(res.summary())\n",
    "print(f'Slope Confidence Interval: {res.conf_int(0.05)[0][0], res.conf_int(0.05)[1][0]}')"
   ]
  },
  {
   "cell_type": "markdown",
   "metadata": {},
   "source": [
    "#### **Cyclist Results**\n",
    "\n",
    "There is very little correlation between the number of safety concern reports and the the number of bicycles involved in accidents. We can conclude that cyclist involvement in accidents does not increase the liklihood of residents submitting safety concern reports. \n",
    "\n",
    "This confidence interval is much smaller, reflecting the stronger linear fit."
   ]
  },
  {
   "cell_type": "code",
   "execution_count": 14,
   "metadata": {
    "colab": {
     "base_uri": "https://localhost:8080/",
     "height": 557
    },
    "colab_type": "code",
    "id": "hUB72WLadqx0",
    "outputId": "34b9fe1a-9433-4c99-9aa0-8df26b73e130",
    "scrolled": true
   },
   "outputs": [
    {
     "name": "stdout",
     "output_type": "stream",
     "text": [
      "r-squared, vehicles: 0.02728171844717022\n",
      "                                 OLS Regression Results                                \n",
      "=======================================================================================\n",
      "Dep. Variable:         TOTAL_VEHICLES   R-squared (uncentered):                   0.470\n",
      "Model:                            OLS   Adj. R-squared (uncentered):              0.394\n",
      "Method:                 Least Squares   F-statistic:                              6.198\n",
      "Date:                Wed, 08 Jan 2020   Prob (F-statistic):                      0.0416\n",
      "Time:                        18:53:37   Log-Likelihood:                         -52.916\n",
      "No. Observations:                   8   AIC:                                      107.8\n",
      "Df Residuals:                       7   BIC:                                      107.9\n",
      "Df Model:                           1                                                  \n",
      "Covariance Type:            nonrobust                                                  \n",
      "===================================================================================\n",
      "                      coef    std err          t      P>|t|      [0.025      0.975]\n",
      "-----------------------------------------------------------------------------------\n",
      "SAFETY_CONCERNS     3.5107      1.410      2.490      0.042       0.176       6.845\n",
      "==============================================================================\n",
      "Omnibus:                        1.528   Durbin-Watson:                   1.489\n",
      "Prob(Omnibus):                  0.466   Jarque-Bera (JB):                0.243\n",
      "Skew:                           0.427   Prob(JB):                        0.885\n",
      "Kurtosis:                       2.985   Cond. No.                         1.00\n",
      "==============================================================================\n",
      "\n",
      "Warnings:\n",
      "[1] Standard Errors assume that the covariance matrix of the errors is correctly specified.\n",
      "Slope Confidence Interval: (0.17633269649949979, 6.845032542257046)\n"
     ]
    }
   ],
   "source": [
    "vx = safety_accid_by_ward_df.SAFETY_CONCERNS\n",
    "vy = safety_accid_by_ward_df.TOTAL_VEHICLES\n",
    "slope, intercept, r_value, p_value, std_err = stats.linregress(vx,vy)\n",
    "print(f\"r-squared, vehicles: {r_value**2}\")\n",
    "\n",
    "mod = sm.OLS(vy, vx)\n",
    "vx = sm.add_constant(vx)\n",
    "res = mod.fit()\n",
    "print(res.summary())\n",
    "print(f'Slope Confidence Interval: {res.conf_int(0.05)[0][0], res.conf_int(0.05)[1][0]}')"
   ]
  },
  {
   "cell_type": "markdown",
   "metadata": {},
   "source": [
    "#### **Vehicle Results**\n",
    "\n",
    "There is very little correlation between the number of safety concern reports and the the number of vehicles involved in accidents. We can conclude that vehicle involvement in accidents does not increase the liklihood of residents submitting safety concern reports. \n",
    "\n",
    "This is perhaps the largest confidence interval, which makes sense provided that number of vehicles involved in accidents varies between very low and very high numbers, unlike number of pedestrians or bicycles. While the fit is slightly better than for pedestrians,the data in general is much more disperse!"
   ]
  }
 ],
 "metadata": {
  "colab": {
   "collapsed_sections": [],
   "name": "darian_nimu_mod_3",
   "provenance": [],
   "toc_visible": true
  },
  "kernelspec": {
   "display_name": "Python 3",
   "language": "python",
   "name": "python3"
  },
  "language_info": {
   "codemirror_mode": {
    "name": "ipython",
    "version": 3
   },
   "file_extension": ".py",
   "mimetype": "text/x-python",
   "name": "python",
   "nbconvert_exporter": "python",
   "pygments_lexer": "ipython3",
   "version": "3.6.9"
  }
 },
 "nbformat": 4,
 "nbformat_minor": 1
}
