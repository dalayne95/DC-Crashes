{
 "cells": [
  {
   "cell_type": "markdown",
   "metadata": {},
   "source": [
    "## Import Statements\n",
    "\n",
    "These include our .py files for calling the APIs, cleaning, and aggregating the data"
   ]
  },
  {
   "cell_type": "code",
   "execution_count": 1,
   "metadata": {
    "scrolled": true
   },
   "outputs": [
    {
     "name": "stdout",
     "output_type": "stream",
     "text": [
      "Response Status Code = 200\n",
      "Response Status Code = 200\n",
      "Response Status Code = 200\n",
      "Response Status Code = 200\n"
     ]
    },
    {
     "name": "stderr",
     "output_type": "stream",
     "text": [
      "/Users/darian/DC-Crashes/Clean_Orig_Data.py:29: SettingWithCopyWarning: \n",
      "A value is trying to be set on a copy of a slice from a DataFrame\n",
      "\n",
      "See the caveats in the documentation: http://pandas.pydata.org/pandas-docs/stable/user_guide/indexing.html#returning-a-view-versus-a-copy\n",
      "  crashes_df.TRAFFIC_CAM[index] = 0\n",
      "/Users/darian/DC-Crashes/Clean_Orig_Data.py:27: SettingWithCopyWarning: \n",
      "A value is trying to be set on a copy of a slice from a DataFrame\n",
      "\n",
      "See the caveats in the documentation: http://pandas.pydata.org/pandas-docs/stable/user_guide/indexing.html#returning-a-view-versus-a-copy\n",
      "  crashes_df.TRAFFIC_CAM[index] = 1\n",
      "/Users/darian/DC-Crashes/Create_Aggregate_Datasets.py:28: SettingWithCopyWarning: \n",
      "A value is trying to be set on a copy of a slice from a DataFrame\n",
      "\n",
      "See the caveats in the documentation: http://pandas.pydata.org/pandas-docs/stable/user_guide/indexing.html#returning-a-view-versus-a-copy\n",
      "  streets_df.TRAFFIC_CAM[index] += 1\n",
      "/Users/darian/DC-Crashes/Create_Aggregate_Datasets.py:46: SettingWithCopyWarning: \n",
      "A value is trying to be set on a copy of a slice from a DataFrame\n",
      "\n",
      "See the caveats in the documentation: http://pandas.pydata.org/pandas-docs/stable/user_guide/indexing.html#returning-a-view-versus-a-copy\n",
      "  streets_df[request_type][ind3] += 1\n"
     ]
    }
   ],
   "source": [
    "from CallAPIs import *\n",
    "from Clean_Orig_Data import *\n",
    "from Create_Aggregate_Datasets import *\n",
    "\n",
    "from scipy import stats\n",
    "import numpy as np"
   ]
  },
  {
   "cell_type": "markdown",
   "metadata": {},
   "source": [
    "## Hypothesis #1\n",
    "\n",
    "What is the probability of getting into an accident in each ward?\n",
    "\n",
    "H0: the probability of getting into an accident in each ward (1-8) is equal\n",
    "\n",
    "Ha: the probability of getting into an accident in each of the wards (1-8) is different "
   ]
  },
  {
   "cell_type": "markdown",
   "metadata": {},
   "source": [
    "### Some Data Manipulating"
   ]
  },
  {
   "cell_type": "code",
   "execution_count": 2,
   "metadata": {},
   "outputs": [
    {
     "data": {
      "text/html": [
       "<div>\n",
       "<style scoped>\n",
       "    .dataframe tbody tr th:only-of-type {\n",
       "        vertical-align: middle;\n",
       "    }\n",
       "\n",
       "    .dataframe tbody tr th {\n",
       "        vertical-align: top;\n",
       "    }\n",
       "\n",
       "    .dataframe thead th {\n",
       "        text-align: right;\n",
       "    }\n",
       "</style>\n",
       "<table border=\"1\" class=\"dataframe\">\n",
       "  <thead>\n",
       "    <tr style=\"text-align: right;\">\n",
       "      <th></th>\n",
       "      <th>incidents</th>\n",
       "    </tr>\n",
       "    <tr>\n",
       "      <th>WARD</th>\n",
       "      <th></th>\n",
       "    </tr>\n",
       "  </thead>\n",
       "  <tbody>\n",
       "    <tr>\n",
       "      <th>Ward 1</th>\n",
       "      <td>107</td>\n",
       "    </tr>\n",
       "    <tr>\n",
       "      <th>Ward 2</th>\n",
       "      <td>189</td>\n",
       "    </tr>\n",
       "    <tr>\n",
       "      <th>Ward 3</th>\n",
       "      <td>49</td>\n",
       "    </tr>\n",
       "    <tr>\n",
       "      <th>Ward 4</th>\n",
       "      <td>84</td>\n",
       "    </tr>\n",
       "    <tr>\n",
       "      <th>Ward 5</th>\n",
       "      <td>175</td>\n",
       "    </tr>\n",
       "    <tr>\n",
       "      <th>Ward 6</th>\n",
       "      <td>138</td>\n",
       "    </tr>\n",
       "    <tr>\n",
       "      <th>Ward 7</th>\n",
       "      <td>140</td>\n",
       "    </tr>\n",
       "    <tr>\n",
       "      <th>Ward 8</th>\n",
       "      <td>113</td>\n",
       "    </tr>\n",
       "  </tbody>\n",
       "</table>\n",
       "</div>"
      ],
      "text/plain": [
       "        incidents\n",
       "WARD             \n",
       "Ward 1        107\n",
       "Ward 2        189\n",
       "Ward 3         49\n",
       "Ward 4         84\n",
       "Ward 5        175\n",
       "Ward 6        138\n",
       "Ward 7        140\n",
       "Ward 8        113"
      ]
     },
     "execution_count": 2,
     "metadata": {},
     "output_type": "execute_result"
    }
   ],
   "source": [
    "pd.options.display.max_columns = None\n",
    "ward_accidents_df = crashes_df.groupby([\"WARD\"]).agg('count')\n",
    "\n",
    "ward_accidents_df = ward_accidents_df.rename(columns={\"OBJECTID\": \"incidents\"})\n",
    "ward_accidents_df = ward_accidents_df.drop(columns=['CRIMEID', 'CCN', 'REPORTDATE', 'ROUTEID', 'MEASURE', 'OFFSET', 'ROADWAYSEGID', 'FROMDATE', 'TODATE', 'MARID', 'ADDRESS', 'LATITUDE', 'LONGITUDE', 'XCOORD', 'YCOORD', 'EVENTID', 'MAR_ADDRESS', 'MAR_SCORE'])\n",
    "\n",
    "ward_accidents = ward_accidents_df[['incidents']].copy()\n",
    "ward_accidents = ward_accidents.drop(['Null'])\n",
    "\n",
    "ward_accidents"
   ]
  },
  {
   "cell_type": "code",
   "execution_count": 3,
   "metadata": {},
   "outputs": [
    {
     "data": {
      "text/plain": [
       "995"
      ]
     },
     "execution_count": 3,
     "metadata": {},
     "output_type": "execute_result"
    }
   ],
   "source": [
    "ward_accidents['incidents'].sum()"
   ]
  },
  {
   "cell_type": "markdown",
   "metadata": {},
   "source": [
    "### Calculate the Chi-Square Statistic "
   ]
  },
  {
   "cell_type": "code",
   "execution_count": 4,
   "metadata": {},
   "outputs": [
    {
     "name": "stdout",
     "output_type": "stream",
     "text": [
      "Chi Observed: 119.89447236180904, Chi Critical for Alpha = 0.05: 14.067140449340167\n"
     ]
    }
   ],
   "source": [
    "chi_o = stats.chisquare(f_obs = ward_accidents.incidents, ddof =1)\n",
    "\n",
    "chi_c = stats.chi2.isf(q=0.05, df=7)\n",
    "\n",
    "print(f\"Chi Observed: {chi_o[0]}, Chi Critical for Alpha = 0.05: {chi_c}\")"
   ]
  },
  {
   "cell_type": "markdown",
   "metadata": {},
   "source": [
    "#### The Chi Observed > Chi Critical, which means there is a significant difference in the number of accidents between wards. "
   ]
  },
  {
   "cell_type": "markdown",
   "metadata": {},
   "source": [
    "### Plotting Hypothesis #1"
   ]
  },
  {
   "cell_type": "code",
   "execution_count": 42,
   "metadata": {},
   "outputs": [
    {
     "data": {
      "text/plain": [
       "<matplotlib.axes._subplots.AxesSubplot at 0x1239b9a90>"
      ]
     },
     "execution_count": 42,
     "metadata": {},
     "output_type": "execute_result"
    },
    {
     "data": {
      "image/png": "[encoded data removed]",
      "text/plain": [
       "<Figure size 432x288 with 1 Axes>"
      ]
     },
     "metadata": {},
     "output_type": "display_data"
    }
   ],
   "source": [
    "import seaborn as sns\n",
    "import matplotlib.pyplot as plt\n",
    "%matplotlib inline\n",
    "\n",
    "sns.set(style=\"whitegrid\")\n",
    "\n",
    "sns.barplot(ward_accidents.index, y='incidents', data=ward_accidents)"
   ]
  },
  {
   "cell_type": "markdown",
   "metadata": {},
   "source": [
    "## Hypothesis #3\n",
    "\n",
    "Does the probability of getting injured in an accident change depending on ward?\n",
    "\n",
    "H0: the probability of getting injured from an accident in any given ward is the same\n",
    "\n",
    "Ha: the probability of getting injured in an accident is significantly higher in one or more wards "
   ]
  },
  {
   "cell_type": "markdown",
   "metadata": {},
   "source": [
    "### Some Data Manipulating"
   ]
  },
  {
   "cell_type": "code",
   "execution_count": 8,
   "metadata": {},
   "outputs": [],
   "source": [
    "ward_count = crashes_df.groupby(['WARD']).agg('count')\n",
    "\n",
    "ward_count = ward_count[['OBJECTID']].copy()\n",
    "ward_count = ward_count.drop(['Null'])"
   ]
  },
  {
   "cell_type": "code",
   "execution_count": 9,
   "metadata": {},
   "outputs": [
    {
     "data": {
      "text/html": [
       "<div>\n",
       "<style scoped>\n",
       "    .dataframe tbody tr th:only-of-type {\n",
       "        vertical-align: middle;\n",
       "    }\n",
       "\n",
       "    .dataframe tbody tr th {\n",
       "        vertical-align: top;\n",
       "    }\n",
       "\n",
       "    .dataframe thead th {\n",
       "        text-align: right;\n",
       "    }\n",
       "</style>\n",
       "<table border=\"1\" class=\"dataframe\">\n",
       "  <thead>\n",
       "    <tr style=\"text-align: right;\">\n",
       "      <th></th>\n",
       "      <th>OBJECTID</th>\n",
       "      <th>CRIMEID</th>\n",
       "      <th>MEASURE</th>\n",
       "      <th>OFFSET</th>\n",
       "      <th>STREETSEGID</th>\n",
       "      <th>ROADWAYSEGID</th>\n",
       "      <th>MARID</th>\n",
       "      <th>LATITUDE</th>\n",
       "      <th>LONGITUDE</th>\n",
       "      <th>XCOORD</th>\n",
       "      <th>YCOORD</th>\n",
       "      <th>MAR_SCORE</th>\n",
       "      <th>MAJORINJURIES_BICYCLIST</th>\n",
       "      <th>MINORINJURIES_BICYCLIST</th>\n",
       "      <th>UNKNOWNINJURIES_BICYCLIST</th>\n",
       "      <th>FATAL_BICYCLIST</th>\n",
       "      <th>MAJORINJURIES_DRIVER</th>\n",
       "      <th>MINORINJURIES_DRIVER</th>\n",
       "      <th>UNKNOWNINJURIES_DRIVER</th>\n",
       "      <th>FATAL_DRIVER</th>\n",
       "      <th>MAJORINJURIES_PEDESTRIAN</th>\n",
       "      <th>MINORINJURIES_PEDESTRIAN</th>\n",
       "      <th>UNKNOWNINJURIES_PEDESTRIAN</th>\n",
       "      <th>FATAL_PEDESTRIAN</th>\n",
       "      <th>TOTAL_VEHICLES</th>\n",
       "      <th>TOTAL_BICYCLES</th>\n",
       "      <th>TOTAL_PEDESTRIANS</th>\n",
       "      <th>PEDESTRIANSIMPAIRED</th>\n",
       "      <th>BICYCLISTSIMPAIRED</th>\n",
       "      <th>DRIVERSIMPAIRED</th>\n",
       "      <th>TOTAL_TAXIS</th>\n",
       "      <th>TOTAL_GOVERNMENT</th>\n",
       "      <th>SPEEDING_INVOLVED</th>\n",
       "      <th>OFFINTERSECTION</th>\n",
       "      <th>MPDLATITUDE</th>\n",
       "      <th>MPDLONGITUDE</th>\n",
       "      <th>MPDGEOX</th>\n",
       "      <th>MPDGEOY</th>\n",
       "      <th>FATALPASSENGER</th>\n",
       "      <th>MAJORINJURIESPASSENGER</th>\n",
       "      <th>MINORINJURIESPASSENGER</th>\n",
       "      <th>UNKNOWNINJURIESPASSENGER</th>\n",
       "    </tr>\n",
       "    <tr>\n",
       "      <th>WARD</th>\n",
       "      <th></th>\n",
       "      <th></th>\n",
       "      <th></th>\n",
       "      <th></th>\n",
       "      <th></th>\n",
       "      <th></th>\n",
       "      <th></th>\n",
       "      <th></th>\n",
       "      <th></th>\n",
       "      <th></th>\n",
       "      <th></th>\n",
       "      <th></th>\n",
       "      <th></th>\n",
       "      <th></th>\n",
       "      <th></th>\n",
       "      <th></th>\n",
       "      <th></th>\n",
       "      <th></th>\n",
       "      <th></th>\n",
       "      <th></th>\n",
       "      <th></th>\n",
       "      <th></th>\n",
       "      <th></th>\n",
       "      <th></th>\n",
       "      <th></th>\n",
       "      <th></th>\n",
       "      <th></th>\n",
       "      <th></th>\n",
       "      <th></th>\n",
       "      <th></th>\n",
       "      <th></th>\n",
       "      <th></th>\n",
       "      <th></th>\n",
       "      <th></th>\n",
       "      <th></th>\n",
       "      <th></th>\n",
       "      <th></th>\n",
       "      <th></th>\n",
       "      <th></th>\n",
       "      <th></th>\n",
       "      <th></th>\n",
       "      <th></th>\n",
       "    </tr>\n",
       "  </thead>\n",
       "  <tbody>\n",
       "    <tr>\n",
       "      <th>Null</th>\n",
       "      <td>610722997</td>\n",
       "      <td>125297639</td>\n",
       "      <td>2832.95</td>\n",
       "      <td>0.01</td>\n",
       "      <td>12532.0</td>\n",
       "      <td>14329.0</td>\n",
       "      <td>4523693</td>\n",
       "      <td>194.570301</td>\n",
       "      <td>-385.088937</td>\n",
       "      <td>1.992290e+06</td>\n",
       "      <td>6.923331e+05</td>\n",
       "      <td>500.000000</td>\n",
       "      <td>0</td>\n",
       "      <td>0</td>\n",
       "      <td>0</td>\n",
       "      <td>0</td>\n",
       "      <td>1</td>\n",
       "      <td>0</td>\n",
       "      <td>0</td>\n",
       "      <td>0</td>\n",
       "      <td>0</td>\n",
       "      <td>0</td>\n",
       "      <td>0</td>\n",
       "      <td>0</td>\n",
       "      <td>10</td>\n",
       "      <td>0</td>\n",
       "      <td>0</td>\n",
       "      <td>0</td>\n",
       "      <td>0</td>\n",
       "      <td>0</td>\n",
       "      <td>0</td>\n",
       "      <td>2</td>\n",
       "      <td>0</td>\n",
       "      <td>0.09</td>\n",
       "      <td>-27.000000</td>\n",
       "      <td>-27.000000</td>\n",
       "      <td>0.000000e+00</td>\n",
       "      <td>0.000000e+00</td>\n",
       "      <td>0.0</td>\n",
       "      <td>0.0</td>\n",
       "      <td>0.0</td>\n",
       "      <td>0.0</td>\n",
       "    </tr>\n",
       "    <tr>\n",
       "      <th>Ward 1</th>\n",
       "      <td>13059125405</td>\n",
       "      <td>2896681015</td>\n",
       "      <td>193369.94</td>\n",
       "      <td>1242.25</td>\n",
       "      <td>343335.0</td>\n",
       "      <td>1101267.0</td>\n",
       "      <td>33388401</td>\n",
       "      <td>4164.872810</td>\n",
       "      <td>-8242.398062</td>\n",
       "      <td>4.250536e+07</td>\n",
       "      <td>1.493450e+07</td>\n",
       "      <td>18973.000000</td>\n",
       "      <td>1</td>\n",
       "      <td>1</td>\n",
       "      <td>2</td>\n",
       "      <td>0</td>\n",
       "      <td>3</td>\n",
       "      <td>22</td>\n",
       "      <td>8</td>\n",
       "      <td>0</td>\n",
       "      <td>1</td>\n",
       "      <td>11</td>\n",
       "      <td>0</td>\n",
       "      <td>0</td>\n",
       "      <td>202</td>\n",
       "      <td>3</td>\n",
       "      <td>12</td>\n",
       "      <td>1</td>\n",
       "      <td>0</td>\n",
       "      <td>4</td>\n",
       "      <td>8</td>\n",
       "      <td>11</td>\n",
       "      <td>1</td>\n",
       "      <td>1921.87</td>\n",
       "      <td>3140.700499</td>\n",
       "      <td>-6483.648579</td>\n",
       "      <td>3.058360e+07</td>\n",
       "      <td>1.074886e+07</td>\n",
       "      <td>0.0</td>\n",
       "      <td>0.0</td>\n",
       "      <td>0.0</td>\n",
       "      <td>0.0</td>\n",
       "    </tr>\n",
       "    <tr>\n",
       "      <th>Ward 2</th>\n",
       "      <td>23068211294</td>\n",
       "      <td>5094362238</td>\n",
       "      <td>222276.98</td>\n",
       "      <td>2008.61</td>\n",
       "      <td>690433.0</td>\n",
       "      <td>1900821.0</td>\n",
       "      <td>60134537</td>\n",
       "      <td>7352.505881</td>\n",
       "      <td>-14560.134205</td>\n",
       "      <td>7.498123e+07</td>\n",
       "      <td>2.592026e+07</td>\n",
       "      <td>34245.949997</td>\n",
       "      <td>5</td>\n",
       "      <td>5</td>\n",
       "      <td>0</td>\n",
       "      <td>0</td>\n",
       "      <td>3</td>\n",
       "      <td>19</td>\n",
       "      <td>10</td>\n",
       "      <td>1</td>\n",
       "      <td>3</td>\n",
       "      <td>4</td>\n",
       "      <td>0</td>\n",
       "      <td>0</td>\n",
       "      <td>367</td>\n",
       "      <td>7</td>\n",
       "      <td>7</td>\n",
       "      <td>0</td>\n",
       "      <td>0</td>\n",
       "      <td>2</td>\n",
       "      <td>37</td>\n",
       "      <td>19</td>\n",
       "      <td>0</td>\n",
       "      <td>4313.81</td>\n",
       "      <td>6008.633565</td>\n",
       "      <td>-12193.867975</td>\n",
       "      <td>4.919667e+07</td>\n",
       "      <td>1.700857e+07</td>\n",
       "      <td>0.0</td>\n",
       "      <td>0.0</td>\n",
       "      <td>3.0</td>\n",
       "      <td>0.0</td>\n",
       "    </tr>\n",
       "    <tr>\n",
       "      <th>Ward 3</th>\n",
       "      <td>5981427948</td>\n",
       "      <td>1295829887</td>\n",
       "      <td>74902.60</td>\n",
       "      <td>537.72</td>\n",
       "      <td>161483.0</td>\n",
       "      <td>747487.0</td>\n",
       "      <td>15197709</td>\n",
       "      <td>1907.923673</td>\n",
       "      <td>-3776.868000</td>\n",
       "      <td>1.926463e+07</td>\n",
       "      <td>6.910981e+06</td>\n",
       "      <td>8143.300003</td>\n",
       "      <td>0</td>\n",
       "      <td>0</td>\n",
       "      <td>1</td>\n",
       "      <td>0</td>\n",
       "      <td>5</td>\n",
       "      <td>6</td>\n",
       "      <td>1</td>\n",
       "      <td>0</td>\n",
       "      <td>0</td>\n",
       "      <td>2</td>\n",
       "      <td>0</td>\n",
       "      <td>0</td>\n",
       "      <td>93</td>\n",
       "      <td>0</td>\n",
       "      <td>1</td>\n",
       "      <td>0</td>\n",
       "      <td>0</td>\n",
       "      <td>0</td>\n",
       "      <td>6</td>\n",
       "      <td>7</td>\n",
       "      <td>0</td>\n",
       "      <td>1758.21</td>\n",
       "      <td>1257.918115</td>\n",
       "      <td>-2570.664579</td>\n",
       "      <td>9.431522e+06</td>\n",
       "      <td>3.382167e+06</td>\n",
       "      <td>0.0</td>\n",
       "      <td>0.0</td>\n",
       "      <td>0.0</td>\n",
       "      <td>0.0</td>\n",
       "    </tr>\n",
       "    <tr>\n",
       "      <th>Ward 4</th>\n",
       "      <td>10252702780</td>\n",
       "      <td>2266989833</td>\n",
       "      <td>214207.40</td>\n",
       "      <td>921.48</td>\n",
       "      <td>181459.0</td>\n",
       "      <td>972812.0</td>\n",
       "      <td>22749708</td>\n",
       "      <td>3272.479607</td>\n",
       "      <td>-6469.903075</td>\n",
       "      <td>3.343511e+07</td>\n",
       "      <td>1.204162e+07</td>\n",
       "      <td>15261.000000</td>\n",
       "      <td>0</td>\n",
       "      <td>0</td>\n",
       "      <td>0</td>\n",
       "      <td>0</td>\n",
       "      <td>3</td>\n",
       "      <td>18</td>\n",
       "      <td>3</td>\n",
       "      <td>0</td>\n",
       "      <td>0</td>\n",
       "      <td>3</td>\n",
       "      <td>0</td>\n",
       "      <td>0</td>\n",
       "      <td>165</td>\n",
       "      <td>0</td>\n",
       "      <td>4</td>\n",
       "      <td>0</td>\n",
       "      <td>0</td>\n",
       "      <td>4</td>\n",
       "      <td>2</td>\n",
       "      <td>7</td>\n",
       "      <td>1</td>\n",
       "      <td>1365.98</td>\n",
       "      <td>2718.059380</td>\n",
       "      <td>-5400.539845</td>\n",
       "      <td>2.270280e+07</td>\n",
       "      <td>8.168717e+06</td>\n",
       "      <td>0.0</td>\n",
       "      <td>0.0</td>\n",
       "      <td>1.0</td>\n",
       "      <td>3.0</td>\n",
       "    </tr>\n",
       "  </tbody>\n",
       "</table>\n",
       "</div>"
      ],
      "text/plain": [
       "           OBJECTID     CRIMEID    MEASURE   OFFSET  STREETSEGID  \\\n",
       "WARD                                                               \n",
       "Null      610722997   125297639    2832.95     0.01      12532.0   \n",
       "Ward 1  13059125405  2896681015  193369.94  1242.25     343335.0   \n",
       "Ward 2  23068211294  5094362238  222276.98  2008.61     690433.0   \n",
       "Ward 3   5981427948  1295829887   74902.60   537.72     161483.0   \n",
       "Ward 4  10252702780  2266989833  214207.40   921.48     181459.0   \n",
       "\n",
       "        ROADWAYSEGID     MARID     LATITUDE     LONGITUDE        XCOORD  \\\n",
       "WARD                                                                      \n",
       "Null         14329.0   4523693   194.570301   -385.088937  1.992290e+06   \n",
       "Ward 1     1101267.0  33388401  4164.872810  -8242.398062  4.250536e+07   \n",
       "Ward 2     1900821.0  60134537  7352.505881 -14560.134205  7.498123e+07   \n",
       "Ward 3      747487.0  15197709  1907.923673  -3776.868000  1.926463e+07   \n",
       "Ward 4      972812.0  22749708  3272.479607  -6469.903075  3.343511e+07   \n",
       "\n",
       "              YCOORD     MAR_SCORE  MAJORINJURIES_BICYCLIST  \\\n",
       "WARD                                                          \n",
       "Null    6.923331e+05    500.000000                        0   \n",
       "Ward 1  1.493450e+07  18973.000000                        1   \n",
       "Ward 2  2.592026e+07  34245.949997                        5   \n",
       "Ward 3  6.910981e+06   8143.300003                        0   \n",
       "Ward 4  1.204162e+07  15261.000000                        0   \n",
       "\n",
       "        MINORINJURIES_BICYCLIST  UNKNOWNINJURIES_BICYCLIST  FATAL_BICYCLIST  \\\n",
       "WARD                                                                          \n",
       "Null                          0                          0                0   \n",
       "Ward 1                        1                          2                0   \n",
       "Ward 2                        5                          0                0   \n",
       "Ward 3                        0                          1                0   \n",
       "Ward 4                        0                          0                0   \n",
       "\n",
       "        MAJORINJURIES_DRIVER  MINORINJURIES_DRIVER  UNKNOWNINJURIES_DRIVER  \\\n",
       "WARD                                                                         \n",
       "Null                       1                     0                       0   \n",
       "Ward 1                     3                    22                       8   \n",
       "Ward 2                     3                    19                      10   \n",
       "Ward 3                     5                     6                       1   \n",
       "Ward 4                     3                    18                       3   \n",
       "\n",
       "        FATAL_DRIVER  MAJORINJURIES_PEDESTRIAN  MINORINJURIES_PEDESTRIAN  \\\n",
       "WARD                                                                       \n",
       "Null               0                         0                         0   \n",
       "Ward 1             0                         1                        11   \n",
       "Ward 2             1                         3                         4   \n",
       "Ward 3             0                         0                         2   \n",
       "Ward 4             0                         0                         3   \n",
       "\n",
       "        UNKNOWNINJURIES_PEDESTRIAN  FATAL_PEDESTRIAN  TOTAL_VEHICLES  \\\n",
       "WARD                                                                   \n",
       "Null                             0                 0              10   \n",
       "Ward 1                           0                 0             202   \n",
       "Ward 2                           0                 0             367   \n",
       "Ward 3                           0                 0              93   \n",
       "Ward 4                           0                 0             165   \n",
       "\n",
       "        TOTAL_BICYCLES  TOTAL_PEDESTRIANS  PEDESTRIANSIMPAIRED  \\\n",
       "WARD                                                             \n",
       "Null                 0                  0                    0   \n",
       "Ward 1               3                 12                    1   \n",
       "Ward 2               7                  7                    0   \n",
       "Ward 3               0                  1                    0   \n",
       "Ward 4               0                  4                    0   \n",
       "\n",
       "        BICYCLISTSIMPAIRED  DRIVERSIMPAIRED  TOTAL_TAXIS  TOTAL_GOVERNMENT  \\\n",
       "WARD                                                                         \n",
       "Null                     0                0            0                 2   \n",
       "Ward 1                   0                4            8                11   \n",
       "Ward 2                   0                2           37                19   \n",
       "Ward 3                   0                0            6                 7   \n",
       "Ward 4                   0                4            2                 7   \n",
       "\n",
       "        SPEEDING_INVOLVED  OFFINTERSECTION  MPDLATITUDE  MPDLONGITUDE  \\\n",
       "WARD                                                                    \n",
       "Null                    0             0.09   -27.000000    -27.000000   \n",
       "Ward 1                  1          1921.87  3140.700499  -6483.648579   \n",
       "Ward 2                  0          4313.81  6008.633565 -12193.867975   \n",
       "Ward 3                  0          1758.21  1257.918115  -2570.664579   \n",
       "Ward 4                  1          1365.98  2718.059380  -5400.539845   \n",
       "\n",
       "             MPDGEOX       MPDGEOY  FATALPASSENGER  MAJORINJURIESPASSENGER  \\\n",
       "WARD                                                                         \n",
       "Null    0.000000e+00  0.000000e+00             0.0                     0.0   \n",
       "Ward 1  3.058360e+07  1.074886e+07             0.0                     0.0   \n",
       "Ward 2  4.919667e+07  1.700857e+07             0.0                     0.0   \n",
       "Ward 3  9.431522e+06  3.382167e+06             0.0                     0.0   \n",
       "Ward 4  2.270280e+07  8.168717e+06             0.0                     0.0   \n",
       "\n",
       "        MINORINJURIESPASSENGER  UNKNOWNINJURIESPASSENGER  \n",
       "WARD                                                      \n",
       "Null                       0.0                       0.0  \n",
       "Ward 1                     0.0                       0.0  \n",
       "Ward 2                     3.0                       0.0  \n",
       "Ward 3                     0.0                       0.0  \n",
       "Ward 4                     1.0                       3.0  "
      ]
     },
     "execution_count": 9,
     "metadata": {},
     "output_type": "execute_result"
    }
   ],
   "source": [
    "injuries = crashes_df.groupby(['WARD']).agg('sum')\n",
    "injuries.head()"
   ]
  },
  {
   "cell_type": "code",
   "execution_count": 10,
   "metadata": {},
   "outputs": [],
   "source": [
    "injuries['bike_total_injuries'] = injuries['MAJORINJURIES_BICYCLIST'] + injuries['MINORINJURIES_BICYCLIST'] + injuries['UNKNOWNINJURIES_BICYCLIST']\n",
    "                                           \n",
    "injuries['driver_total_injuries'] = injuries['MAJORINJURIES_DRIVER'] + injuries['MINORINJURIES_DRIVER'] + injuries['UNKNOWNINJURIES_DRIVER']\n",
    "\n",
    "injuries['pedestrian_total_injuries'] = injuries['MAJORINJURIES_PEDESTRIAN'] + injuries['MINORINJURIES_PEDESTRIAN'] + injuries['UNKNOWNINJURIES_PEDESTRIAN']\n",
    "\n",
    "injuries = injuries[['pedestrian_total_injuries','bike_total_injuries','driver_total_injuries']]                                                                          "
   ]
  },
  {
   "cell_type": "code",
   "execution_count": 11,
   "metadata": {},
   "outputs": [
    {
     "name": "stderr",
     "output_type": "stream",
     "text": [
      "/usr/local/lib/python3.7/site-packages/ipykernel_launcher.py:1: FutureWarning: Sorting because non-concatenation axis is not aligned. A future version\n",
      "of pandas will change to not sort by default.\n",
      "\n",
      "To accept the future behavior, pass 'sort=False'.\n",
      "\n",
      "To retain the current behavior and silence the warning, pass 'sort=True'.\n",
      "\n",
      "  \"\"\"Entry point for launching an IPython kernel.\n"
     ]
    }
   ],
   "source": [
    "ward_injuries = pd.concat([ward_count, injuries], axis=1)\n",
    "ward_injuries = ward_injuries.drop(['Null'])\n",
    "ward_injuries = ward_injuries.rename(columns={\"OBJECTID\": \"incidents\"})"
   ]
  },
  {
   "cell_type": "code",
   "execution_count": 12,
   "metadata": {},
   "outputs": [
    {
     "data": {
      "text/html": [
       "<div>\n",
       "<style scoped>\n",
       "    .dataframe tbody tr th:only-of-type {\n",
       "        vertical-align: middle;\n",
       "    }\n",
       "\n",
       "    .dataframe tbody tr th {\n",
       "        vertical-align: top;\n",
       "    }\n",
       "\n",
       "    .dataframe thead th {\n",
       "        text-align: right;\n",
       "    }\n",
       "</style>\n",
       "<table border=\"1\" class=\"dataframe\">\n",
       "  <thead>\n",
       "    <tr style=\"text-align: right;\">\n",
       "      <th></th>\n",
       "      <th>total_injuries</th>\n",
       "    </tr>\n",
       "  </thead>\n",
       "  <tbody>\n",
       "    <tr>\n",
       "      <th>Ward 1</th>\n",
       "      <td>49</td>\n",
       "    </tr>\n",
       "    <tr>\n",
       "      <th>Ward 2</th>\n",
       "      <td>49</td>\n",
       "    </tr>\n",
       "    <tr>\n",
       "      <th>Ward 3</th>\n",
       "      <td>15</td>\n",
       "    </tr>\n",
       "    <tr>\n",
       "      <th>Ward 4</th>\n",
       "      <td>27</td>\n",
       "    </tr>\n",
       "    <tr>\n",
       "      <th>Ward 5</th>\n",
       "      <td>67</td>\n",
       "    </tr>\n",
       "    <tr>\n",
       "      <th>Ward 6</th>\n",
       "      <td>53</td>\n",
       "    </tr>\n",
       "    <tr>\n",
       "      <th>Ward 7</th>\n",
       "      <td>73</td>\n",
       "    </tr>\n",
       "    <tr>\n",
       "      <th>Ward 8</th>\n",
       "      <td>45</td>\n",
       "    </tr>\n",
       "  </tbody>\n",
       "</table>\n",
       "</div>"
      ],
      "text/plain": [
       "        total_injuries\n",
       "Ward 1              49\n",
       "Ward 2              49\n",
       "Ward 3              15\n",
       "Ward 4              27\n",
       "Ward 5              67\n",
       "Ward 6              53\n",
       "Ward 7              73\n",
       "Ward 8              45"
      ]
     },
     "execution_count": 12,
     "metadata": {},
     "output_type": "execute_result"
    }
   ],
   "source": [
    "ward_injuries['total_injuries'] = ward_injuries['pedestrian_total_injuries'] + ward_injuries['bike_total_injuries'] + ward_injuries['driver_total_injuries']\n",
    "ward_injuries = ward_injuries.drop(['incidents','pedestrian_total_injuries','bike_total_injuries','driver_total_injuries'], axis=1)\n",
    "\n",
    "ward_injuries"
   ]
  },
  {
   "cell_type": "markdown",
   "metadata": {},
   "source": [
    "### Calculating the Chi-Square Statistic"
   ]
  },
  {
   "cell_type": "code",
   "execution_count": 17,
   "metadata": {},
   "outputs": [
    {
     "name": "stdout",
     "output_type": "stream",
     "text": [
      "Chi Observed: 53.91534391534391, Chi Critical for Alpha = 0.05: 14.067140449340167\n"
     ]
    }
   ],
   "source": [
    "chi_o2 = stats.chisquare(f_obs = ward_injuries.total_injuries, ddof =1)\n",
    "\n",
    "chi_c2 = stats.chi2.isf(q=0.05, df=7)\n",
    "\n",
    "print(f\"Chi Observed: {chi_o2[0]}, Chi Critical for Alpha = 0.05: {chi_c2}\")"
   ]
  },
  {
   "cell_type": "markdown",
   "metadata": {},
   "source": [
    "#### The Chi Observed > Chi Critical, which means there is a significant difference in the number of injuries from accidents between wards. "
   ]
  },
  {
   "cell_type": "markdown",
   "metadata": {},
   "source": [
    "### Plotting Hypothesis #3"
   ]
  },
  {
   "cell_type": "code",
   "execution_count": 48,
   "metadata": {},
   "outputs": [
    {
     "data": {
      "text/plain": [
       "<matplotlib.axes._subplots.AxesSubplot at 0x12365c710>"
      ]
     },
     "execution_count": 48,
     "metadata": {},
     "output_type": "execute_result"
    },
    {
     "data": {
      "image/png": "[encoded data removed]",
      "text/plain": [
       "<Figure size 432x288 with 1 Axes>"
      ]
     },
     "metadata": {},
     "output_type": "display_data"
    }
   ],
   "source": [
    "sns.barplot(ward_injuries.index, y='total_injuries', data=ward_injuries)"
   ]
  },
  {
   "cell_type": "markdown",
   "metadata": {},
   "source": [
    "## Hypothesis #?\n",
    "\n",
    "Is the number of incidents for each ward significantly different than the average for all 8 wards?\n",
    "\n",
    "H0:\n",
    "\n",
    "Ha:"
   ]
  },
  {
   "cell_type": "code",
   "execution_count": null,
   "metadata": {},
   "outputs": [],
   "source": [
    "ward_accidents['ward_average'] = ward_accidents['incidents'].mean()\n",
    "ward_accidents\n",
    "\n",
    "# what statistical test would I do to compare each ward's accident levels to the average "
   ]
  },
  {
   "cell_type": "code",
   "execution_count": null,
   "metadata": {},
   "outputs": [],
   "source": []
  }
 ],
 "metadata": {
  "kernelspec": {
   "display_name": "Python 3",
   "language": "python",
   "name": "python3"
  },
  "language_info": {
   "codemirror_mode": {
    "name": "ipython",
    "version": 3
   },
   "file_extension": ".py",
   "mimetype": "text/x-python",
   "name": "python",
   "nbconvert_exporter": "python",
   "pygments_lexer": "ipython3",
   "version": "3.7.5"
  }
 },
 "nbformat": 4,
 "nbformat_minor": 2
}
